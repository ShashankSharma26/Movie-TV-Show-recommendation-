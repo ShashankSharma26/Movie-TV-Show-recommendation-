{
 "cells": [
  {
   "cell_type": "markdown",
   "metadata": {},
   "source": [
    "# Data preperation "
   ]
  },
  {
   "cell_type": "markdown",
   "metadata": {},
   "source": [
    "The datasets from the IMDB database are normalised to atleast third degree, hence this notebook will take the the necassary fields of information and put it together for quick data retreival. This is essential as we want our system to be as quick as possible."
   ]
  },
  {
   "cell_type": "code",
   "execution_count": 2,
   "metadata": {},
   "outputs": [],
   "source": [
    "##importing libraries\n",
    "import pandas as pd #for data manipulation\n",
    "import unidecode #to replace accents with english letters\n",
    "import os       #to change local working directory\n",
    "import warnings   \n",
    "warnings.filterwarnings('ignore')  #ignore warnings\n",
    "os.chdir ('/Users/shashanksharma/datasets from IMDB')"
   ]
  },
  {
   "cell_type": "markdown",
   "metadata": {},
   "source": [
    "## Creating dataframe with Movie/Show information"
   ]
  },
  {
   "cell_type": "markdown",
   "metadata": {},
   "source": [
    "### 1. Starting with main title file with language information"
   ]
  },
  {
   "cell_type": "code",
   "execution_count": 3,
   "metadata": {},
   "outputs": [],
   "source": [
    "#reading the title files\n",
    "df = pd.read_csv('title_akas.tsv',sep='\\t')"
   ]
  },
  {
   "cell_type": "code",
   "execution_count": 4,
   "metadata": {},
   "outputs": [
    {
     "data": {
      "text/html": [
       "<div>\n",
       "<style scoped>\n",
       "    .dataframe tbody tr th:only-of-type {\n",
       "        vertical-align: middle;\n",
       "    }\n",
       "\n",
       "    .dataframe tbody tr th {\n",
       "        vertical-align: top;\n",
       "    }\n",
       "\n",
       "    .dataframe thead th {\n",
       "        text-align: right;\n",
       "    }\n",
       "</style>\n",
       "<table border=\"1\" class=\"dataframe\">\n",
       "  <thead>\n",
       "    <tr style=\"text-align: right;\">\n",
       "      <th></th>\n",
       "      <th>titleId</th>\n",
       "      <th>ordering</th>\n",
       "      <th>title</th>\n",
       "      <th>region</th>\n",
       "      <th>language</th>\n",
       "      <th>types</th>\n",
       "      <th>attributes</th>\n",
       "      <th>isOriginalTitle</th>\n",
       "    </tr>\n",
       "  </thead>\n",
       "  <tbody>\n",
       "    <tr>\n",
       "      <th>0</th>\n",
       "      <td>tt0000001</td>\n",
       "      <td>1</td>\n",
       "      <td>Карменсіта</td>\n",
       "      <td>UA</td>\n",
       "      <td>\\N</td>\n",
       "      <td>imdbDisplay</td>\n",
       "      <td>\\N</td>\n",
       "      <td>0</td>\n",
       "    </tr>\n",
       "    <tr>\n",
       "      <th>1</th>\n",
       "      <td>tt0000001</td>\n",
       "      <td>2</td>\n",
       "      <td>Carmencita</td>\n",
       "      <td>DE</td>\n",
       "      <td>\\N</td>\n",
       "      <td>\\N</td>\n",
       "      <td>literal title</td>\n",
       "      <td>0</td>\n",
       "    </tr>\n",
       "    <tr>\n",
       "      <th>2</th>\n",
       "      <td>tt0000001</td>\n",
       "      <td>3</td>\n",
       "      <td>Carmencita - spanyol tánc</td>\n",
       "      <td>HU</td>\n",
       "      <td>\\N</td>\n",
       "      <td>imdbDisplay</td>\n",
       "      <td>\\N</td>\n",
       "      <td>0</td>\n",
       "    </tr>\n",
       "    <tr>\n",
       "      <th>3</th>\n",
       "      <td>tt0000001</td>\n",
       "      <td>4</td>\n",
       "      <td>Καρμενσίτα</td>\n",
       "      <td>GR</td>\n",
       "      <td>\\N</td>\n",
       "      <td>imdbDisplay</td>\n",
       "      <td>\\N</td>\n",
       "      <td>0</td>\n",
       "    </tr>\n",
       "    <tr>\n",
       "      <th>4</th>\n",
       "      <td>tt0000001</td>\n",
       "      <td>5</td>\n",
       "      <td>Карменсита</td>\n",
       "      <td>RU</td>\n",
       "      <td>\\N</td>\n",
       "      <td>imdbDisplay</td>\n",
       "      <td>\\N</td>\n",
       "      <td>0</td>\n",
       "    </tr>\n",
       "  </tbody>\n",
       "</table>\n",
       "</div>"
      ],
      "text/plain": [
       "     titleId  ordering                      title region language  \\\n",
       "0  tt0000001         1                 Карменсіта     UA       \\N   \n",
       "1  tt0000001         2                 Carmencita     DE       \\N   \n",
       "2  tt0000001         3  Carmencita - spanyol tánc     HU       \\N   \n",
       "3  tt0000001         4                 Καρμενσίτα     GR       \\N   \n",
       "4  tt0000001         5                 Карменсита     RU       \\N   \n",
       "\n",
       "         types     attributes isOriginalTitle  \n",
       "0  imdbDisplay             \\N               0  \n",
       "1           \\N  literal title               0  \n",
       "2  imdbDisplay             \\N               0  \n",
       "3  imdbDisplay             \\N               0  \n",
       "4  imdbDisplay             \\N               0  "
      ]
     },
     "execution_count": 4,
     "metadata": {},
     "output_type": "execute_result"
    }
   ],
   "source": [
    "df.head()"
   ]
  },
  {
   "cell_type": "code",
   "execution_count": 5,
   "metadata": {},
   "outputs": [
    {
     "data": {
      "text/plain": [
       "array(['\\\\N', 'ja', 'sv', 'en', 'tr', 'es', 'sr', 'cs', 'fa', 'fr', 'bg',\n",
       "       'ca', 'nl', 'qbn', 'pt', 'ru', 'uk', 'qbp', 'ar', 'cmn', 'rn',\n",
       "       'bs', 'de', 'hi', 'yi', 'qbo', 'ka', 'hr', 'sl', 'he', 'tg', 'sk',\n",
       "       'kk', 'da', 'el', 'fi', 'it', 'gsw', 'yue', 'az', 'ms', 'pl', 'mr',\n",
       "       'uz', 'gl', 'th', 'ta', 'eu', 'be', 'af', 'la', 'hy', 'ur', 'bn',\n",
       "       'te', 'lt', 'mk', 'et', 'lv', 'gd', 'tl', 'cy', 'id', 'qal', 'gu',\n",
       "       'ml', 'ro', 'hu', 'pa', 'kn', 'wo', 'no', 'is', 'sq', 'zh', 'ps',\n",
       "       'nqo', 'sd', 'ga', 'xh', 'mi', 'zu', 'ku', 'rm', 'prs', 'ky', 'vi',\n",
       "       'fro', 'ko', 'haw', 'mn', 'lo', 'my', 'am', 'qac', 'ne', 'myv',\n",
       "       'br', 'iu', 'st', 'tn', 'cr'], dtype=object)"
      ]
     },
     "execution_count": 5,
     "metadata": {},
     "output_type": "execute_result"
    }
   ],
   "source": [
    "df.language.unique()"
   ]
  },
  {
   "cell_type": "markdown",
   "metadata": {},
   "source": [
    "As observed above there are movies/shows from multiple languages in IMDB database. But, this project is only focussing on English and Hindi movies. Hence, rows of information for all other languages are removed"
   ]
  },
  {
   "cell_type": "code",
   "execution_count": 6,
   "metadata": {},
   "outputs": [],
   "source": [
    "#Keeping titles with english or hindi titles and removing every other row of information\n",
    "selected_languages=['en','hi']\n",
    "df = df[df.language.isin(selected_languages)]"
   ]
  },
  {
   "cell_type": "markdown",
   "metadata": {},
   "source": [
    "Also, columns like ordering, type, attributes and isOriginalTitle are of no use to the recommendation system. Hence, these columns are removed below."
   ]
  },
  {
   "cell_type": "code",
   "execution_count": 7,
   "metadata": {},
   "outputs": [],
   "source": [
    "df = df.drop(labels=['types','attributes','isOriginalTitle','ordering'],axis=1)"
   ]
  },
  {
   "cell_type": "code",
   "execution_count": 8,
   "metadata": {},
   "outputs": [
    {
     "data": {
      "text/html": [
       "<div>\n",
       "<style scoped>\n",
       "    .dataframe tbody tr th:only-of-type {\n",
       "        vertical-align: middle;\n",
       "    }\n",
       "\n",
       "    .dataframe tbody tr th {\n",
       "        vertical-align: top;\n",
       "    }\n",
       "\n",
       "    .dataframe thead th {\n",
       "        text-align: right;\n",
       "    }\n",
       "</style>\n",
       "<table border=\"1\" class=\"dataframe\">\n",
       "  <thead>\n",
       "    <tr style=\"text-align: right;\">\n",
       "      <th></th>\n",
       "      <th>titleId</th>\n",
       "      <th>title</th>\n",
       "      <th>region</th>\n",
       "      <th>language</th>\n",
       "    </tr>\n",
       "  </thead>\n",
       "  <tbody>\n",
       "    <tr>\n",
       "      <th>95</th>\n",
       "      <td>tt0000012</td>\n",
       "      <td>The Arrival of a Train</td>\n",
       "      <td>XWW</td>\n",
       "      <td>en</td>\n",
       "    </tr>\n",
       "    <tr>\n",
       "      <th>97</th>\n",
       "      <td>tt0000012</td>\n",
       "      <td>The Arrival of a Train at La Ciotat</td>\n",
       "      <td>XWW</td>\n",
       "      <td>en</td>\n",
       "    </tr>\n",
       "    <tr>\n",
       "      <th>107</th>\n",
       "      <td>tt0000012</td>\n",
       "      <td>The Arrival of a Train</td>\n",
       "      <td>XEU</td>\n",
       "      <td>en</td>\n",
       "    </tr>\n",
       "    <tr>\n",
       "      <th>157</th>\n",
       "      <td>tt0000016</td>\n",
       "      <td>Boat Leaving the Port</td>\n",
       "      <td>XWW</td>\n",
       "      <td>en</td>\n",
       "    </tr>\n",
       "    <tr>\n",
       "      <th>239</th>\n",
       "      <td>tt0000029</td>\n",
       "      <td>Baby's Meal</td>\n",
       "      <td>XWW</td>\n",
       "      <td>en</td>\n",
       "    </tr>\n",
       "  </tbody>\n",
       "</table>\n",
       "</div>"
      ],
      "text/plain": [
       "       titleId                                title region language\n",
       "95   tt0000012               The Arrival of a Train    XWW       en\n",
       "97   tt0000012  The Arrival of a Train at La Ciotat    XWW       en\n",
       "107  tt0000012               The Arrival of a Train    XEU       en\n",
       "157  tt0000016                Boat Leaving the Port    XWW       en\n",
       "239  tt0000029                          Baby's Meal    XWW       en"
      ]
     },
     "execution_count": 8,
     "metadata": {},
     "output_type": "execute_result"
    }
   ],
   "source": [
    "df.head()"
   ]
  },
  {
   "cell_type": "markdown",
   "metadata": {},
   "source": [
    "### 2. Adding genre, year and title type(movie or show) information"
   ]
  },
  {
   "cell_type": "code",
   "execution_count": 42,
   "metadata": {},
   "outputs": [],
   "source": [
    "#reading the file with basic title information \n",
    "basic = pd.read_csv('title_basics.tsv',sep='\\t')"
   ]
  },
  {
   "cell_type": "code",
   "execution_count": 43,
   "metadata": {},
   "outputs": [
    {
     "data": {
      "text/html": [
       "<div>\n",
       "<style scoped>\n",
       "    .dataframe tbody tr th:only-of-type {\n",
       "        vertical-align: middle;\n",
       "    }\n",
       "\n",
       "    .dataframe tbody tr th {\n",
       "        vertical-align: top;\n",
       "    }\n",
       "\n",
       "    .dataframe thead th {\n",
       "        text-align: right;\n",
       "    }\n",
       "</style>\n",
       "<table border=\"1\" class=\"dataframe\">\n",
       "  <thead>\n",
       "    <tr style=\"text-align: right;\">\n",
       "      <th></th>\n",
       "      <th>tconst</th>\n",
       "      <th>titleType</th>\n",
       "      <th>primaryTitle</th>\n",
       "      <th>originalTitle</th>\n",
       "      <th>isAdult</th>\n",
       "      <th>startYear</th>\n",
       "      <th>endYear</th>\n",
       "      <th>runtimeMinutes</th>\n",
       "      <th>genres</th>\n",
       "    </tr>\n",
       "  </thead>\n",
       "  <tbody>\n",
       "    <tr>\n",
       "      <th>0</th>\n",
       "      <td>tt0000001</td>\n",
       "      <td>short</td>\n",
       "      <td>Carmencita</td>\n",
       "      <td>Carmencita</td>\n",
       "      <td>0</td>\n",
       "      <td>1894</td>\n",
       "      <td>\\N</td>\n",
       "      <td>1</td>\n",
       "      <td>Documentary,Short</td>\n",
       "    </tr>\n",
       "    <tr>\n",
       "      <th>1</th>\n",
       "      <td>tt0000002</td>\n",
       "      <td>short</td>\n",
       "      <td>Le clown et ses chiens</td>\n",
       "      <td>Le clown et ses chiens</td>\n",
       "      <td>0</td>\n",
       "      <td>1892</td>\n",
       "      <td>\\N</td>\n",
       "      <td>5</td>\n",
       "      <td>Animation,Short</td>\n",
       "    </tr>\n",
       "    <tr>\n",
       "      <th>2</th>\n",
       "      <td>tt0000003</td>\n",
       "      <td>short</td>\n",
       "      <td>Pauvre Pierrot</td>\n",
       "      <td>Pauvre Pierrot</td>\n",
       "      <td>0</td>\n",
       "      <td>1892</td>\n",
       "      <td>\\N</td>\n",
       "      <td>4</td>\n",
       "      <td>Animation,Comedy,Romance</td>\n",
       "    </tr>\n",
       "    <tr>\n",
       "      <th>3</th>\n",
       "      <td>tt0000004</td>\n",
       "      <td>short</td>\n",
       "      <td>Un bon bock</td>\n",
       "      <td>Un bon bock</td>\n",
       "      <td>0</td>\n",
       "      <td>1892</td>\n",
       "      <td>\\N</td>\n",
       "      <td>12</td>\n",
       "      <td>Animation,Short</td>\n",
       "    </tr>\n",
       "    <tr>\n",
       "      <th>4</th>\n",
       "      <td>tt0000005</td>\n",
       "      <td>short</td>\n",
       "      <td>Blacksmith Scene</td>\n",
       "      <td>Blacksmith Scene</td>\n",
       "      <td>0</td>\n",
       "      <td>1893</td>\n",
       "      <td>\\N</td>\n",
       "      <td>1</td>\n",
       "      <td>Comedy,Short</td>\n",
       "    </tr>\n",
       "  </tbody>\n",
       "</table>\n",
       "</div>"
      ],
      "text/plain": [
       "      tconst titleType            primaryTitle           originalTitle  \\\n",
       "0  tt0000001     short              Carmencita              Carmencita   \n",
       "1  tt0000002     short  Le clown et ses chiens  Le clown et ses chiens   \n",
       "2  tt0000003     short          Pauvre Pierrot          Pauvre Pierrot   \n",
       "3  tt0000004     short             Un bon bock             Un bon bock   \n",
       "4  tt0000005     short        Blacksmith Scene        Blacksmith Scene   \n",
       "\n",
       "   isAdult startYear endYear runtimeMinutes                    genres  \n",
       "0        0      1894      \\N              1         Documentary,Short  \n",
       "1        0      1892      \\N              5           Animation,Short  \n",
       "2        0      1892      \\N              4  Animation,Comedy,Romance  \n",
       "3        0      1892      \\N             12           Animation,Short  \n",
       "4        0      1893      \\N              1              Comedy,Short  "
      ]
     },
     "execution_count": 43,
     "metadata": {},
     "output_type": "execute_result"
    }
   ],
   "source": [
    "basic.head()"
   ]
  },
  {
   "cell_type": "markdown",
   "metadata": {},
   "source": [
    "Next, the basic data is joined with the title information. "
   ]
  },
  {
   "cell_type": "code",
   "execution_count": 44,
   "metadata": {},
   "outputs": [],
   "source": [
    "#joining the required columns from the the basic tile dataframe\n",
    "basic = basic.set_index('tconst')\n",
    "df_with_basic = pd.merge(df,basic[['titleType','isAdult','startYear','genres']],left_on='titleId',right_on='tconst',how='left')"
   ]
  },
  {
   "cell_type": "code",
   "execution_count": 45,
   "metadata": {},
   "outputs": [
    {
     "data": {
      "text/html": [
       "<div>\n",
       "<style scoped>\n",
       "    .dataframe tbody tr th:only-of-type {\n",
       "        vertical-align: middle;\n",
       "    }\n",
       "\n",
       "    .dataframe tbody tr th {\n",
       "        vertical-align: top;\n",
       "    }\n",
       "\n",
       "    .dataframe thead th {\n",
       "        text-align: right;\n",
       "    }\n",
       "</style>\n",
       "<table border=\"1\" class=\"dataframe\">\n",
       "  <thead>\n",
       "    <tr style=\"text-align: right;\">\n",
       "      <th></th>\n",
       "      <th>titleId</th>\n",
       "      <th>title</th>\n",
       "      <th>region</th>\n",
       "      <th>language</th>\n",
       "      <th>titleType</th>\n",
       "      <th>isAdult</th>\n",
       "      <th>startYear</th>\n",
       "      <th>genres</th>\n",
       "    </tr>\n",
       "  </thead>\n",
       "  <tbody>\n",
       "    <tr>\n",
       "      <th>0</th>\n",
       "      <td>tt0000012</td>\n",
       "      <td>The Arrival of a Train</td>\n",
       "      <td>XWW</td>\n",
       "      <td>en</td>\n",
       "      <td>short</td>\n",
       "      <td>0.0</td>\n",
       "      <td>1896</td>\n",
       "      <td>Action,Documentary,Short</td>\n",
       "    </tr>\n",
       "    <tr>\n",
       "      <th>1</th>\n",
       "      <td>tt0000012</td>\n",
       "      <td>The Arrival of a Train at La Ciotat</td>\n",
       "      <td>XWW</td>\n",
       "      <td>en</td>\n",
       "      <td>short</td>\n",
       "      <td>0.0</td>\n",
       "      <td>1896</td>\n",
       "      <td>Action,Documentary,Short</td>\n",
       "    </tr>\n",
       "    <tr>\n",
       "      <th>2</th>\n",
       "      <td>tt0000012</td>\n",
       "      <td>The Arrival of a Train</td>\n",
       "      <td>XEU</td>\n",
       "      <td>en</td>\n",
       "      <td>short</td>\n",
       "      <td>0.0</td>\n",
       "      <td>1896</td>\n",
       "      <td>Action,Documentary,Short</td>\n",
       "    </tr>\n",
       "    <tr>\n",
       "      <th>3</th>\n",
       "      <td>tt0000016</td>\n",
       "      <td>Boat Leaving the Port</td>\n",
       "      <td>XWW</td>\n",
       "      <td>en</td>\n",
       "      <td>short</td>\n",
       "      <td>0.0</td>\n",
       "      <td>1895</td>\n",
       "      <td>Documentary,Short</td>\n",
       "    </tr>\n",
       "    <tr>\n",
       "      <th>4</th>\n",
       "      <td>tt0000029</td>\n",
       "      <td>Baby's Meal</td>\n",
       "      <td>XWW</td>\n",
       "      <td>en</td>\n",
       "      <td>short</td>\n",
       "      <td>0.0</td>\n",
       "      <td>1895</td>\n",
       "      <td>Documentary,Short</td>\n",
       "    </tr>\n",
       "  </tbody>\n",
       "</table>\n",
       "</div>"
      ],
      "text/plain": [
       "     titleId                                title region language titleType  \\\n",
       "0  tt0000012               The Arrival of a Train    XWW       en     short   \n",
       "1  tt0000012  The Arrival of a Train at La Ciotat    XWW       en     short   \n",
       "2  tt0000012               The Arrival of a Train    XEU       en     short   \n",
       "3  tt0000016                Boat Leaving the Port    XWW       en     short   \n",
       "4  tt0000029                          Baby's Meal    XWW       en     short   \n",
       "\n",
       "   isAdult startYear                    genres  \n",
       "0      0.0      1896  Action,Documentary,Short  \n",
       "1      0.0      1896  Action,Documentary,Short  \n",
       "2      0.0      1896  Action,Documentary,Short  \n",
       "3      0.0      1895         Documentary,Short  \n",
       "4      0.0      1895         Documentary,Short  "
      ]
     },
     "execution_count": 45,
     "metadata": {},
     "output_type": "execute_result"
    }
   ],
   "source": [
    "df_with_basic.head()"
   ]
  },
  {
   "cell_type": "markdown",
   "metadata": {},
   "source": [
    "Checking the types of titles in the data"
   ]
  },
  {
   "cell_type": "code",
   "execution_count": 46,
   "metadata": {},
   "outputs": [
    {
     "data": {
      "text/plain": [
       "array(['short', 'movie', 'tvSeries', 'tvMovie', 'tvMiniSeries',\n",
       "       'tvEpisode', 'tvShort', 'video', 'videoGame', 'tvSpecial', nan],\n",
       "      dtype=object)"
      ]
     },
     "execution_count": 46,
     "metadata": {},
     "output_type": "execute_result"
    }
   ],
   "source": [
    "df_with_basic.titleType.unique()"
   ]
  },
  {
   "cell_type": "markdown",
   "metadata": {},
   "source": [
    "Only movies, tvSeries and TVMiniSeries are relavent to this project. Hence, every row of information with other title type is removed."
   ]
  },
  {
   "cell_type": "code",
   "execution_count": 47,
   "metadata": {},
   "outputs": [],
   "source": [
    "to_keep = ['movie','tvSeries','tvMiniSeries']\n",
    "df_with_basic = df_with_basic[df_with_basic['titleType'].isin(to_keep)]"
   ]
  },
  {
   "cell_type": "markdown",
   "metadata": {},
   "source": [
    "Checking the genres column for values."
   ]
  },
  {
   "cell_type": "code",
   "execution_count": 48,
   "metadata": {},
   "outputs": [
    {
     "data": {
      "text/plain": [
       "array(['\\\\N', 'Drama', 'Drama,Romance', ...,\n",
       "       'Musical,Reality-TV,Talk-Show', 'Comedy,Short,Talk-Show',\n",
       "       'Music,Musical,Reality-TV'], dtype=object)"
      ]
     },
     "execution_count": 48,
     "metadata": {},
     "output_type": "execute_result"
    }
   ],
   "source": [
    "df_with_basic.genres.unique()"
   ]
  },
  {
   "cell_type": "code",
   "execution_count": 49,
   "metadata": {},
   "outputs": [
    {
     "data": {
      "text/html": [
       "<div>\n",
       "<style scoped>\n",
       "    .dataframe tbody tr th:only-of-type {\n",
       "        vertical-align: middle;\n",
       "    }\n",
       "\n",
       "    .dataframe tbody tr th {\n",
       "        vertical-align: top;\n",
       "    }\n",
       "\n",
       "    .dataframe thead th {\n",
       "        text-align: right;\n",
       "    }\n",
       "</style>\n",
       "<table border=\"1\" class=\"dataframe\">\n",
       "  <thead>\n",
       "    <tr style=\"text-align: right;\">\n",
       "      <th></th>\n",
       "      <th>titleId</th>\n",
       "      <th>title</th>\n",
       "      <th>region</th>\n",
       "      <th>language</th>\n",
       "      <th>titleType</th>\n",
       "      <th>isAdult</th>\n",
       "      <th>startYear</th>\n",
       "      <th>genres</th>\n",
       "    </tr>\n",
       "  </thead>\n",
       "  <tbody>\n",
       "    <tr>\n",
       "      <th>68</th>\n",
       "      <td>tt0000838</td>\n",
       "      <td>The Cultivation of the Cacao Tree</td>\n",
       "      <td>XWW</td>\n",
       "      <td>en</td>\n",
       "      <td>movie</td>\n",
       "      <td>0.0</td>\n",
       "      <td>1909</td>\n",
       "      <td>\\N</td>\n",
       "    </tr>\n",
       "    <tr>\n",
       "      <th>78</th>\n",
       "      <td>tt0001051</td>\n",
       "      <td>Magical Dream</td>\n",
       "      <td>XWW</td>\n",
       "      <td>en</td>\n",
       "      <td>movie</td>\n",
       "      <td>0.0</td>\n",
       "      <td>1909</td>\n",
       "      <td>\\N</td>\n",
       "    </tr>\n",
       "    <tr>\n",
       "      <th>80</th>\n",
       "      <td>tt0001122</td>\n",
       "      <td>The Red Inn</td>\n",
       "      <td>XWW</td>\n",
       "      <td>en</td>\n",
       "      <td>movie</td>\n",
       "      <td>0.0</td>\n",
       "      <td>1910</td>\n",
       "      <td>\\N</td>\n",
       "    </tr>\n",
       "    <tr>\n",
       "      <th>112</th>\n",
       "      <td>tt0002329</td>\n",
       "      <td>Today and Tomorrow</td>\n",
       "      <td>XWW</td>\n",
       "      <td>en</td>\n",
       "      <td>movie</td>\n",
       "      <td>0.0</td>\n",
       "      <td>1912</td>\n",
       "      <td>\\N</td>\n",
       "    </tr>\n",
       "    <tr>\n",
       "      <th>126</th>\n",
       "      <td>tt0002801</td>\n",
       "      <td>The Black Diamond</td>\n",
       "      <td>XWW</td>\n",
       "      <td>en</td>\n",
       "      <td>movie</td>\n",
       "      <td>0.0</td>\n",
       "      <td>1913</td>\n",
       "      <td>\\N</td>\n",
       "    </tr>\n",
       "    <tr>\n",
       "      <th>...</th>\n",
       "      <td>...</td>\n",
       "      <td>...</td>\n",
       "      <td>...</td>\n",
       "      <td>...</td>\n",
       "      <td>...</td>\n",
       "      <td>...</td>\n",
       "      <td>...</td>\n",
       "      <td>...</td>\n",
       "    </tr>\n",
       "    <tr>\n",
       "      <th>2651813</th>\n",
       "      <td>tt9908394</td>\n",
       "      <td>Sex Documentary: Meaty</td>\n",
       "      <td>XWW</td>\n",
       "      <td>en</td>\n",
       "      <td>movie</td>\n",
       "      <td>0.0</td>\n",
       "      <td>1981</td>\n",
       "      <td>\\N</td>\n",
       "    </tr>\n",
       "    <tr>\n",
       "      <th>2651969</th>\n",
       "      <td>tt9909276</td>\n",
       "      <td>Documentary Porn: Compulsive Rapist</td>\n",
       "      <td>XWW</td>\n",
       "      <td>en</td>\n",
       "      <td>movie</td>\n",
       "      <td>0.0</td>\n",
       "      <td>1981</td>\n",
       "      <td>\\N</td>\n",
       "    </tr>\n",
       "    <tr>\n",
       "      <th>2651992</th>\n",
       "      <td>tt9909736</td>\n",
       "      <td>Porno Documentary: Housewife's Prostitution Team</td>\n",
       "      <td>XWW</td>\n",
       "      <td>en</td>\n",
       "      <td>movie</td>\n",
       "      <td>0.0</td>\n",
       "      <td>1981</td>\n",
       "      <td>\\N</td>\n",
       "    </tr>\n",
       "    <tr>\n",
       "      <th>2651993</th>\n",
       "      <td>tt9909744</td>\n",
       "      <td>Please Seduce Me with Dirty Words</td>\n",
       "      <td>XWW</td>\n",
       "      <td>en</td>\n",
       "      <td>movie</td>\n",
       "      <td>0.0</td>\n",
       "      <td>1981</td>\n",
       "      <td>\\N</td>\n",
       "    </tr>\n",
       "    <tr>\n",
       "      <th>2653017</th>\n",
       "      <td>tt9912812</td>\n",
       "      <td>Silence</td>\n",
       "      <td>XWW</td>\n",
       "      <td>en</td>\n",
       "      <td>movie</td>\n",
       "      <td>0.0</td>\n",
       "      <td>1991</td>\n",
       "      <td>\\N</td>\n",
       "    </tr>\n",
       "  </tbody>\n",
       "</table>\n",
       "<p>9105 rows × 8 columns</p>\n",
       "</div>"
      ],
      "text/plain": [
       "           titleId                                             title region  \\\n",
       "68       tt0000838                 The Cultivation of the Cacao Tree    XWW   \n",
       "78       tt0001051                                     Magical Dream    XWW   \n",
       "80       tt0001122                                       The Red Inn    XWW   \n",
       "112      tt0002329                                Today and Tomorrow    XWW   \n",
       "126      tt0002801                                 The Black Diamond    XWW   \n",
       "...            ...                                               ...    ...   \n",
       "2651813  tt9908394                            Sex Documentary: Meaty    XWW   \n",
       "2651969  tt9909276               Documentary Porn: Compulsive Rapist    XWW   \n",
       "2651992  tt9909736  Porno Documentary: Housewife's Prostitution Team    XWW   \n",
       "2651993  tt9909744                 Please Seduce Me with Dirty Words    XWW   \n",
       "2653017  tt9912812                                           Silence    XWW   \n",
       "\n",
       "        language titleType  isAdult startYear genres  \n",
       "68            en     movie      0.0      1909     \\N  \n",
       "78            en     movie      0.0      1909     \\N  \n",
       "80            en     movie      0.0      1910     \\N  \n",
       "112           en     movie      0.0      1912     \\N  \n",
       "126           en     movie      0.0      1913     \\N  \n",
       "...          ...       ...      ...       ...    ...  \n",
       "2651813       en     movie      0.0      1981     \\N  \n",
       "2651969       en     movie      0.0      1981     \\N  \n",
       "2651992       en     movie      0.0      1981     \\N  \n",
       "2651993       en     movie      0.0      1981     \\N  \n",
       "2653017       en     movie      0.0      1991     \\N  \n",
       "\n",
       "[9105 rows x 8 columns]"
      ]
     },
     "execution_count": 49,
     "metadata": {},
     "output_type": "execute_result"
    }
   ],
   "source": [
    "df_with_basic[df_with_basic.genres == '\\\\N']"
   ]
  },
  {
   "cell_type": "markdown",
   "metadata": {},
   "source": [
    "Movie without genres are of no use to this project. Hence all the rows without genres are removed below."
   ]
  },
  {
   "cell_type": "code",
   "execution_count": 50,
   "metadata": {},
   "outputs": [],
   "source": [
    "#removing rows with \\N as a genre\n",
    "df_with_basic = df_with_basic[~(df_with_basic.genres =='\\\\N')]"
   ]
  },
  {
   "cell_type": "markdown",
   "metadata": {},
   "source": [
    "Checking if there are some movie in hindi woth region different to India."
   ]
  },
  {
   "cell_type": "code",
   "execution_count": 51,
   "metadata": {},
   "outputs": [
    {
     "data": {
      "text/html": [
       "<div>\n",
       "<style scoped>\n",
       "    .dataframe tbody tr th:only-of-type {\n",
       "        vertical-align: middle;\n",
       "    }\n",
       "\n",
       "    .dataframe tbody tr th {\n",
       "        vertical-align: top;\n",
       "    }\n",
       "\n",
       "    .dataframe thead th {\n",
       "        text-align: right;\n",
       "    }\n",
       "</style>\n",
       "<table border=\"1\" class=\"dataframe\">\n",
       "  <thead>\n",
       "    <tr style=\"text-align: right;\">\n",
       "      <th></th>\n",
       "      <th>titleId</th>\n",
       "      <th>title</th>\n",
       "      <th>region</th>\n",
       "      <th>language</th>\n",
       "      <th>titleType</th>\n",
       "      <th>isAdult</th>\n",
       "      <th>startYear</th>\n",
       "      <th>genres</th>\n",
       "    </tr>\n",
       "  </thead>\n",
       "  <tbody>\n",
       "    <tr>\n",
       "      <th>21192</th>\n",
       "      <td>tt0085743</td>\n",
       "      <td>Jaane Bhi Do Yaaro</td>\n",
       "      <td>US</td>\n",
       "      <td>hi</td>\n",
       "      <td>movie</td>\n",
       "      <td>0.0</td>\n",
       "      <td>1983</td>\n",
       "      <td>Comedy,Drama</td>\n",
       "    </tr>\n",
       "    <tr>\n",
       "      <th>2483062</th>\n",
       "      <td>tt9248934</td>\n",
       "      <td>Marjaavaan</td>\n",
       "      <td>CA</td>\n",
       "      <td>hi</td>\n",
       "      <td>movie</td>\n",
       "      <td>0.0</td>\n",
       "      <td>2019</td>\n",
       "      <td>Action,Drama,Romance</td>\n",
       "    </tr>\n",
       "  </tbody>\n",
       "</table>\n",
       "</div>"
      ],
      "text/plain": [
       "           titleId               title region language titleType  isAdult  \\\n",
       "21192    tt0085743  Jaane Bhi Do Yaaro     US       hi     movie      0.0   \n",
       "2483062  tt9248934          Marjaavaan     CA       hi     movie      0.0   \n",
       "\n",
       "        startYear                genres  \n",
       "21192        1983          Comedy,Drama  \n",
       "2483062      2019  Action,Drama,Romance  "
      ]
     },
     "execution_count": 51,
     "metadata": {},
     "output_type": "execute_result"
    }
   ],
   "source": [
    "df_with_basic[(df_with_basic.region != 'IN') & (df_with_basic.language == 'hi')]"
   ]
  },
  {
   "cell_type": "markdown",
   "metadata": {},
   "source": [
    "Changing the region of above title to India"
   ]
  },
  {
   "cell_type": "code",
   "execution_count": 52,
   "metadata": {},
   "outputs": [],
   "source": [
    "df_with_basic.loc[(df_with_basic.title == 'Jaane Bhi Do Yaaro'),'region']='IN'\n",
    "df_with_basic.loc[(df_with_basic.title == 'Marjaavaan'),'region']='IN'"
   ]
  },
  {
   "cell_type": "markdown",
   "metadata": {},
   "source": [
    "Checking titles with region as India and language as english"
   ]
  },
  {
   "cell_type": "code",
   "execution_count": 53,
   "metadata": {},
   "outputs": [
    {
     "data": {
      "text/html": [
       "<div>\n",
       "<style scoped>\n",
       "    .dataframe tbody tr th:only-of-type {\n",
       "        vertical-align: middle;\n",
       "    }\n",
       "\n",
       "    .dataframe tbody tr th {\n",
       "        vertical-align: top;\n",
       "    }\n",
       "\n",
       "    .dataframe thead th {\n",
       "        text-align: right;\n",
       "    }\n",
       "</style>\n",
       "<table border=\"1\" class=\"dataframe\">\n",
       "  <thead>\n",
       "    <tr style=\"text-align: right;\">\n",
       "      <th></th>\n",
       "      <th>titleId</th>\n",
       "      <th>title</th>\n",
       "      <th>region</th>\n",
       "      <th>language</th>\n",
       "      <th>titleType</th>\n",
       "      <th>isAdult</th>\n",
       "      <th>startYear</th>\n",
       "      <th>genres</th>\n",
       "    </tr>\n",
       "  </thead>\n",
       "  <tbody>\n",
       "    <tr>\n",
       "      <th>843703</th>\n",
       "      <td>tt1210819</td>\n",
       "      <td>The Lone Ranger</td>\n",
       "      <td>IN</td>\n",
       "      <td>en</td>\n",
       "      <td>movie</td>\n",
       "      <td>0.0</td>\n",
       "      <td>2013</td>\n",
       "      <td>Action,Adventure,Western</td>\n",
       "    </tr>\n",
       "    <tr>\n",
       "      <th>846501</th>\n",
       "      <td>tt1211837</td>\n",
       "      <td>Doctor Strange</td>\n",
       "      <td>IN</td>\n",
       "      <td>en</td>\n",
       "      <td>movie</td>\n",
       "      <td>0.0</td>\n",
       "      <td>2016</td>\n",
       "      <td>Action,Adventure,Fantasy</td>\n",
       "    </tr>\n",
       "    <tr>\n",
       "      <th>846961</th>\n",
       "      <td>tt1211956</td>\n",
       "      <td>Escape Plan</td>\n",
       "      <td>IN</td>\n",
       "      <td>en</td>\n",
       "      <td>movie</td>\n",
       "      <td>0.0</td>\n",
       "      <td>2013</td>\n",
       "      <td>Action,Thriller</td>\n",
       "    </tr>\n",
       "    <tr>\n",
       "      <th>847493</th>\n",
       "      <td>tt1212142</td>\n",
       "      <td>Rowdy Gari Pellam</td>\n",
       "      <td>IN</td>\n",
       "      <td>en</td>\n",
       "      <td>movie</td>\n",
       "      <td>0.0</td>\n",
       "      <td>1991</td>\n",
       "      <td>Drama</td>\n",
       "    </tr>\n",
       "    <tr>\n",
       "      <th>848750</th>\n",
       "      <td>tt12125238</td>\n",
       "      <td>Ek Thi Begum</td>\n",
       "      <td>IN</td>\n",
       "      <td>en</td>\n",
       "      <td>tvSeries</td>\n",
       "      <td>0.0</td>\n",
       "      <td>2020</td>\n",
       "      <td>Crime,Drama</td>\n",
       "    </tr>\n",
       "    <tr>\n",
       "      <th>...</th>\n",
       "      <td>...</td>\n",
       "      <td>...</td>\n",
       "      <td>...</td>\n",
       "      <td>...</td>\n",
       "      <td>...</td>\n",
       "      <td>...</td>\n",
       "      <td>...</td>\n",
       "      <td>...</td>\n",
       "    </tr>\n",
       "    <tr>\n",
       "      <th>2652057</th>\n",
       "      <td>tt9910242</td>\n",
       "      <td>Shaadi Ke Siyape</td>\n",
       "      <td>IN</td>\n",
       "      <td>en</td>\n",
       "      <td>tvSeries</td>\n",
       "      <td>0.0</td>\n",
       "      <td>2019</td>\n",
       "      <td>Comedy</td>\n",
       "    </tr>\n",
       "    <tr>\n",
       "      <th>2652183</th>\n",
       "      <td>tt9910728</td>\n",
       "      <td>Zalim Istanbul</td>\n",
       "      <td>IN</td>\n",
       "      <td>en</td>\n",
       "      <td>tvSeries</td>\n",
       "      <td>0.0</td>\n",
       "      <td>2019</td>\n",
       "      <td>Drama</td>\n",
       "    </tr>\n",
       "    <tr>\n",
       "      <th>2653688</th>\n",
       "      <td>tt9915686</td>\n",
       "      <td>Khatra Khatra Khatra</td>\n",
       "      <td>IN</td>\n",
       "      <td>en</td>\n",
       "      <td>tvSeries</td>\n",
       "      <td>0.0</td>\n",
       "      <td>2019</td>\n",
       "      <td>Comedy,Reality-TV</td>\n",
       "    </tr>\n",
       "    <tr>\n",
       "      <th>2653749</th>\n",
       "      <td>tt9916206</td>\n",
       "      <td>Nojor</td>\n",
       "      <td>IN</td>\n",
       "      <td>en</td>\n",
       "      <td>tvSeries</td>\n",
       "      <td>0.0</td>\n",
       "      <td>2019</td>\n",
       "      <td>Fantasy</td>\n",
       "    </tr>\n",
       "    <tr>\n",
       "      <th>2653751</th>\n",
       "      <td>tt9916216</td>\n",
       "      <td>Kalyanam Mudhal Kadhal Varai</td>\n",
       "      <td>IN</td>\n",
       "      <td>en</td>\n",
       "      <td>tvSeries</td>\n",
       "      <td>0.0</td>\n",
       "      <td>2014</td>\n",
       "      <td>Romance</td>\n",
       "    </tr>\n",
       "  </tbody>\n",
       "</table>\n",
       "<p>4000 rows × 8 columns</p>\n",
       "</div>"
      ],
      "text/plain": [
       "            titleId                         title region language titleType  \\\n",
       "843703    tt1210819               The Lone Ranger     IN       en     movie   \n",
       "846501    tt1211837                Doctor Strange     IN       en     movie   \n",
       "846961    tt1211956                   Escape Plan     IN       en     movie   \n",
       "847493    tt1212142             Rowdy Gari Pellam     IN       en     movie   \n",
       "848750   tt12125238                  Ek Thi Begum     IN       en  tvSeries   \n",
       "...             ...                           ...    ...      ...       ...   \n",
       "2652057   tt9910242              Shaadi Ke Siyape     IN       en  tvSeries   \n",
       "2652183   tt9910728                Zalim Istanbul     IN       en  tvSeries   \n",
       "2653688   tt9915686          Khatra Khatra Khatra     IN       en  tvSeries   \n",
       "2653749   tt9916206                         Nojor     IN       en  tvSeries   \n",
       "2653751   tt9916216  Kalyanam Mudhal Kadhal Varai     IN       en  tvSeries   \n",
       "\n",
       "         isAdult startYear                    genres  \n",
       "843703       0.0      2013  Action,Adventure,Western  \n",
       "846501       0.0      2016  Action,Adventure,Fantasy  \n",
       "846961       0.0      2013           Action,Thriller  \n",
       "847493       0.0      1991                     Drama  \n",
       "848750       0.0      2020               Crime,Drama  \n",
       "...          ...       ...                       ...  \n",
       "2652057      0.0      2019                    Comedy  \n",
       "2652183      0.0      2019                     Drama  \n",
       "2653688      0.0      2019         Comedy,Reality-TV  \n",
       "2653749      0.0      2019                   Fantasy  \n",
       "2653751      0.0      2014                   Romance  \n",
       "\n",
       "[4000 rows x 8 columns]"
      ]
     },
     "execution_count": 53,
     "metadata": {},
     "output_type": "execute_result"
    }
   ],
   "source": [
    "df_with_basic[(df_with_basic.region == 'IN') & (df_with_basic.language == 'en')].tail(4000)\n"
   ]
  },
  {
   "cell_type": "markdown",
   "metadata": {},
   "source": [
    "There are some hindi movies with incorrect language information in the data. The language of these movies are changed to hindi below."
   ]
  },
  {
   "cell_type": "code",
   "execution_count": 54,
   "metadata": {},
   "outputs": [],
   "source": [
    "to_hindi = ['Baiju Bawra','Devdas','Pyaasa','Madhumati','Apur Sansar','Mughal-E-Azam','Dil Hi to Hai','Mahanagar','Kashmir Ki Kali','Mahapurush','Sadhu Aur Shaitaan','Amar Prem','Andaaz','Abhimaan','Bobby','Saudagar','Benaam','Majboor','Muqaddar Ka Sikandar','Sparsh','Chakra','Ram Balram','Taxi Chor','Naseeb','Namak Halaal','Satte Pe Satta','Andhaa Kaanoon','Sharabi','Ghulami','Mohabbat','Aakhree Raasta','Ijaazat','Awara Baap','Jalwa','Jawab Hum Denge','Salaam Bombay!','Batwara','Lamhe','Sanam Bewafa','Shivaji Surathkal','One Two Three','Agnisakshi','Sakhi Tumi Kar','Taj Mahal 1989','Kehta Hai Yeh Dil','Dosti Ka Naya Maidan','Kambakkht Ishq','Aswathama','Meri Gudiya','Amaanat','Mahabharatham','Kavita Bhabhi','Yehh Jadu Hai Jinn Ka','3 Shyaane','Chhaliya','Agra','Savdhaan India 3 - India Fights Back','Shubharambh','Phir Laut Aayi Naagin','Thappad','Hurdang','Bhoomi','Radhe','Dostana 2','K.G.F: Chapter 2','Sindura Bindu','Badnaam Gali','Hum Toh Tere Aashiq Hai','Naqaab','Awarapan','Race','Inkaar','Baarish','Love Aaj Kal','Dhol','Jeena Isi Ka Naam Hai','Om Namah Shivay','Kya Hoga Nimmo Ka','Kasamh Se',\"Mani Ratnam's Guru\",'Deal or No Deal','Pyaar Ke Side Effects','Sivaji: The Boss','Satyaghath: Crime Never Pays','Khosla Ka Ghosla!','Chalte Chalte Kahan Aagaye Hum','Lage Raho Munna Bhai','Chandramukhi','Lucky','Meri Jung: One Man Army','Deewane Huye Paaga','Mumbai Express','Parineeta','Zabaan Sambhal Ke','Afsana Dilwalon Ka','Phir Bhi Dil Hai Hindustani','Sanskar','Vikram Aur Betaal','Aap Ki Adalat','Tu Tu Main Main','Shaktimaan: The First Indian Superhero','Ramayan','Chandrakanta','Buniyaad','Meri Aan Man At Work','Tere Naam','Hungama','Kohraam','Karishma Kali Kaa','Ek Aur Ek Gyarah','Sakshyam','Mahatma','Lahore','Ek Hasina Thi','Krantikari','Saathiya','Yeh Dil Aashiqanaa','Ittefaq','Yeh Jo Hai Zindagi','Aarzoo','Shri Krishna','Hamara Dil Aapke Paas Hai','Saajan Chale Sasural','Tenali Rama','Phir Bhi Dil Hai Hindustani','Shola Aur Shabnam','Billu Barber','Firaaq','Don 2','Wake Up Sid','Kahaani Ghar Ghar Kii','Once Upon a Time in Bombay','StreetDance 3D','Kasautii Zindagii Kay','Kahiin to Hoga','Anjaana Anjaani','Paan Singh Tomar','Yamla Pagla Deewana','Kismat','Once Upon a Time in Mumbaai Again','Murder 2','Sasural Simar Ka','Matru Ki Bijlee Ka Mandola','Y.J.H.D.','Aashiqui 2','Shootout at Wadala','Singham Returns','Jannat 2','A.B.C.D','Gully Boy','Savdhaan India','Comedy Circus Ke Ajoobe','Kahani Comedy Circus Ki','Love Marriage Ya Arranged Marriage','Kuch Toh Log Kahenge','F.I.R.','Ninja Hattori','Tere Mere Sapne','Madhubala - Ek Ishq Ek Junoon','Jaanu','Yeh Hai Mohabbatein','Hum Saath Aath Hai','Humpty Sharma Ki Dulhania','Dishoom','The Shaukeens','Welcome to Karachi','Yeh Hai Aashiqui','Akbar Birbal','MTV Roadies','Bhabi Ji Ghar Par Hai','On Air with AIB','Meri Pyaari Bindu','Aahat','MTV Unplugged India','Yamla Pagla Deewana Again',\"TSP's Zeroes\",'Salaam Zindagi','Street Dancer 3D','Hera Pheri','Three Idiots','TVF Pitchers','3 Idiots','Z.N.M.D.','Super 30','War','Malang','Khatra Khatra Khatra']"
   ]
  },
  {
   "cell_type": "code",
   "execution_count": 55,
   "metadata": {},
   "outputs": [],
   "source": [
    "remove= ['Munnabhai 2nd Innings','Munnabhai 2nd Innings']"
   ]
  },
  {
   "cell_type": "markdown",
   "metadata": {},
   "source": [
    "Changing language of the above title to hindi"
   ]
  },
  {
   "cell_type": "code",
   "execution_count": 56,
   "metadata": {},
   "outputs": [],
   "source": [
    "df_with_basic.loc[(df_with_basic.title.isin(to_hindi)),'language']='hi'"
   ]
  },
  {
   "cell_type": "code",
   "execution_count": 57,
   "metadata": {},
   "outputs": [],
   "source": [
    "df_with_basic = df_with_basic[~(df_with_basic.title.isin(remove))]"
   ]
  },
  {
   "cell_type": "markdown",
   "metadata": {},
   "source": [
    "Checking movies which are incorrectly mentioned as Hindi movies in the data."
   ]
  },
  {
   "cell_type": "code",
   "execution_count": 58,
   "metadata": {},
   "outputs": [],
   "source": [
    "pd.set_option('display.max_rows', 4100)"
   ]
  },
  {
   "cell_type": "code",
   "execution_count": null,
   "metadata": {},
   "outputs": [],
   "source": [
    "df_with_basic[(df_with_basic.language == 'hi')].head(4060)"
   ]
  },
  {
   "cell_type": "code",
   "execution_count": 59,
   "metadata": {},
   "outputs": [],
   "source": [
    "to_english = ['Sherlock Jr.','Rain or Shine','Platinum Blonde','Shopworn','Black Widow','Seven Samurai','12 Angry Men','Witness for the Prosecution','Hiroshima Mon Amour','Psycho',\"Cleopatra's Daughter\",'The Good, the Bad and the Ugly',\"Guess Who's Coming to Dinner\",'The Nude Restaurant','Point Blank','Enter the Game of Death','Marlowe','The Love Factor','Days and Nights in the Forest','Hollywood Blue','Murmur of the Heart','Enter the Dragon','Belladonna of Sadness','The Godfather: Part II','The Holy Mountain','The Night Porter','The Story of O','Submission','Star Wars: Episode IV - A New Hope','Apocalypse Now','American Gigolo','The Blue Lagoon','Caligula','Star Wars: Episode V - The Empire Strikes Back','Superman II','The Shining','The Entity','Private Lessons','Reds','Basket Case','Caligula and Messalina','E.T. the Extra-Terrestrial','The Evil Dead','A Little Sex','Outsiders','Star Wars: Episode VI - Return of the Jedi','Scarface','Trading Places','Gremlins','Angel','Hollywood Hot Tubs','The Terminator','Dragon Ball','Back to the Future','The Goonies','Little Flames','The Mosquito Coast','9½ Weeks','Top Gun','Stand by Me','Welcome to 18','Star Trek: The Next Generation','What Every Frenchwoman Wants','Full Metal Jacket','The Lost Boys','The Untouchables','Grave of the Fireflies','Legend of the Galactic Heroes','Wild Orchid','The Marrying Man','Only Yesterday','The Silence of the Lambs','Basic Instinct','Dracula','All Ladies Do It','he Opposite Sex and How to Live with Them','Reservoir Dogs','Scent of a Woman','Tokyo Decadence','Bad Boy Bubby','Jurassic Park',\"Schindler's List\",'Naked',\"Baby's Day Out\",'Friends','Cold Water','Forrest Gump','The Lion King','The Professional','The Shawshank Redemption','Pulp Fiction','The Smile of the Fox','Bad Boys','Braveheart','The Wood','Cast Away','American Pie','The Lord of the Rings: The Return of the King','The Sixth Sense','Boredom','American Beauty','The White Ship','Siska','Frivolous Lola','Golden Eyes Secret Agent 077','Requiem for a Dream','Little Nicky','Romance','Schoolgirls in Chains','Bionic Ninja','Wolf Guy','Sexy','Sexy Beast','Paths in the Night','Naked Video','Snatch','Memento','Amélie','Love & Sex','The Matrix Revolutions','Spirited Away','AMALL','The Pianist','Sex and Lucia','The Pornographer','Catch Me If You Can','The Girl Next Door','Battle Royale','Hollywood Sex Fantasy','Kill Bill: Vol. 1','Black Angel',\"People's Dada\",\"Red Dragon\",'Meet the Fockers','X2: X-Men United','The Office','800 Bullets','Wrong Turn','xXx','Take Care of My Cat','Shrek 2','Timeline','Sex Is Comedy','The Wire','City of God','Berserk','Big Fish','The Day After Tomorrow','The Day Maradona Met Gardel','Pirates of the Caribbean: The Curse of the Blacl Pearl','The Best Sex Ever',\"I'm Not Scared\",'Mystic River','The Stepford Wives','Ella Enchanted','xXx: State of the Union','Scooby-Doo 2: Monsters Unleashed','The Notebook','Eternal Sunshine of the Spotless Mind','The Haunted Mansion','The Polar Express','Two Brothers','The Aviator','I, Robot','Memories of Murder','King Kong','Inglourious Basterds','The Life Aquatic with Steve Zissou','Downfall','The Chronicles of Narnia: The Lion, the Witch and the Wardrobe','Taking Lives','Please Teacher!','Charlie and the Chocolate Factory','D.E.B.S.','Jurassic World','Iron Man','Batman Begins','Saints and Soldiers','The Story of the Weeping Came','Halloween','Mi piace lavorare (Mobbing)','Jack Paradise (Les nuits de Montréal)','Crash','Survival Island','The Criminals','The Ellen DeGeneres Show','The 7th Day','Casino Royale','Ma Mère','The Da Vinci Code','Ratatouille','Rome','Motherless Brooklyn','The Office','The Grudge','The Exorcism of Emily Rose','Little Children','Casshern','The Departed','Watchmen','Lost','9 Songs','House M.D.','Veronica Mars','Spider-Man 3',\"Grey's Anatomy\",'Show Me Yours','300','Avatar: The Last Airbender','Land of the Dead','Lie with Me','A Soap','Fullmetal Alchemist','The Curious Case of Benjamin Button','V for Vendetta','The Invisible','Kidulthood','Next','Doctor Who','Alita: Battle Ange','Angel','Beowulf','Zodiac','The Painted Veil','Shazam!','Hancock','Blood Diamond','Wonder Woman','Good Luck Chuck','Lady in the Water','Perfect Mismatch','Life of Pi','The Equalizer','The Smart Hunt','Prison Break','Reincarnation','The Holiday','Star Wars: The Clone Wars','Captain America: The First Avenger','X-Men Origins: Wolverine','How I Met Your Mother','Supernatural','Spanish Beauty','The Prince of Tennis','Unnatural & Accidental','The Dark Knight','There Will Be Blood','Eagle Man','Apocalypto',\"It's Always Sunny in Philadelphia\",'Robbery','Westworld','Big Brother','No Country for Old Men','I Am Legend','A Good Day to Be Black & Sexy','The Prestige','Bus Conductor','The Ode to Joy','Fantastic 4: Rise of the Silver Surfer','Miss Cobra','XXXHOLiC','The Oxford Murders','Good Boy, Bad Boy','Carnival Row','Sixty Six','Strictly Sexual','Our Victory','Time','Into the Wild','Body of Lies','The Tudors','Man of Steel','Dexter',\"My Mom's New Boyfriend\",'Getting Home','The Last Full Measure','Honeymoon','Meet Bill','Flood','Carriers','Interstellar','World War Z','The Sex Movie','Arn: The Knight Templar','Pet Sematary','The Town','The Avengers','Death Note','The Big Bang Theory','The Hobbit: An Unexpected Journey','Breaking Bad','Young People Fucking','Harry Potter and the Deathly Hallows: Part 1','Salt','Game of Thrones','Source Code','Black Swan','The Amazing Spider-Man','The Happening','Six Sex Scenes and a Murder','Sherlock Holmes','The Wolf of Wall Street','The Struggle','Sex Drugs & Theatre','Medically Yourrs',\"Hellcat's Revenge II: Deadman's Hand\",'The Gift','Sweater','Under the Blue Sky','The Secret Life of My Secretary',\"Angel's Last Mission: Love\",'Sing \"Yesterday\" for Me','Never Back Down','Avenue 5','Argo','Sleeping with My Student','Death Proof',\"Hachi: A Dog's Tale\",'Bluff City Law','Stumptown','Outmatched','Prodigal Son','All Rise','You Cannot Hide','Fly Girls','Titans','Mission Over Mars','Black Christmas','Stalked','Bad Guys: The Movie','They Say Nothing Stays the Same',\"Inside Bill's Brain: Decoding Bill Gates\",'The Hole','House Arrest','Cosmos: Possible Worlds','Shutter Island','Sex Drive','Cubicles','Coloquinte','The Kung Fu Master','Handsome Siblings','Zombieland','Spice and Wolf','Little Soldier','The Rite','Never Kiss Your Best Friend','The Hobbit: The Desolation of Smaug','Wuthering Heights','7 Islands','The Boys','Memorist','The Mentalist','Harry Potter and the Deathly Hallows: Part 2','Gran Torino','The Rebound','Jack Ryan: Shadow Recruit','Rambo: Last Blood','Moneyball','Doctor Strange','I Am Love','Mission: Impossible - Ghost Protocol','Sorority Row',\"Don't Look Down\",'Conviction','Sex and the City 2','Room in Rome','X-Men: First Class','A Serbian Film','The Social Network','Bad Teacher','Sex Ed','xXx: Return of Xander Cage','Pirates of the Caribbean: On Stranger Tides','The Irishman','The Secret in Their Eyes','The Twilight Saga: Breaking Dawn: Part 1','3-D Sex and Zen: Extreme Ecstasy','Tomb Raider','Suicide Squad','Mad Max: Fury Road','42 Kilometres','Journey 2: The Mysterious Island','No Strings Attached','Apartment: Are You Looking for One?','X-Man Wolverine 2','The Conjuring','Gravity','Sherlock','Aquaman','Oblivion','Bad Boys for Life','The Walking Dead','Point Blank','Zombieland: Double Tap','Maleficent','Suits','Friends with Benefits','Maid Sama!','Project X','The Dictator','The Impossible','X: Night of Vengeance','This Is Not a Film','Now You See Me','The Twilight Saga: Breaking Dawn - Part 2','Intouchables','Trollhunters: Tales of Arcadia','Top Gun: Maverick','Orchids: My Intersex Adventure','Hollywood Sex Wars','Hollywood Sex Wars','Is This a Zombie?','Pirates of the Caribbean: Dead Men Tell No Tales','Black & White & Sex','Prosecutor Princess','13 Reasons Why','Person of Interest','American Horror Story','Django Unchained','House of Cards','Blade Runner 2049','Hollywood Rules','The World God Only Knows',\"Let's Be Cops\",\"Miss Peregrine's Home for Peculiar Children\",'The Hangover Part III','Toy Story 4','Rush','Angry Birds','A Aa E Ee','Guardians of the Galaxy','The Great Wall','Ip Man 4: The Finale','The Imitation Game','Black Mirror','Inside Out','The Hunt','The Queen of Versailles','A Boy Called Sailboat','True Story','Men in Black: International','Naruto SD: Rock Lee & His Ninja Pals','The Hobbit: The Battle of the Five Armies','Fifty Shades of Grey','Avengers: Age of Ultron','Cosmos: A Spacetime Odyssey','Predestination','Outlawed','Star Wars: The Rise of Skywalker','Silicon Valley','The Town That Dreaded Sundown','The Fault in Our Stars','Whiplash','Me Before You','Narcos','The Blacklist','Bad Man','The Interview','Kingsman: The Secret Service','Furious 7','Ip Man 3','Shank','John Wick','Insurgent','The Jungle Book','Now You See Me 2','Into the Ashes','I Hear Your Voice','The Nightmare','The Boy Next Door',\"Master's Sun\",'Palm Trees in the Snow','Nine: Nine Time Travels',\"I Do... Until I Don't\",'Sully','Obsessed','Logan','Zapatlela 2','Daredevil','Heartless','Transformers: The Last Knight','X-Men: Apocalypse','When Marnie Was There','Despicable Me 3','The Hateful Eight','My Love from the Star','Jungle King','Black Widow','Captain America: Civil War','Thor: Ragnarok','Deadtectives',\"Schitt's Creek\",'Richard Jewell','Mine 9',\"Schitt's Creek\",'Line of Duty','Mercenaries Lady Expendables','Incredibles 2','Fear the Walking Dead','Gotham','The Predator','Invasion Planet Earth','Supergirl','Fantastic Beasts: The Crimes of Grindelwald','Captain Marvel','Avengers: Infinity War','Avengers: Endgame','Hot Type: 150 Years of the Nation','The Witch','The Last Black Man in San Francisco','The Peanut Butter Falcon\t','John Wick: Chapter 2','Fifty Shades Darker','Fifty Shades Freed','Cosmic Sex','Christopher Robin','Bunny the Perfect Gentleman','The Catcher Was a Spy','The Fate of the Furious','Spider-Man: Into the Spider-Verse','Bumblebee','The Last King','Maleficent: Mistress of Evil','True History of the Kelly Gang']"
   ]
  },
  {
   "cell_type": "code",
   "execution_count": 60,
   "metadata": {},
   "outputs": [],
   "source": [
    "to_english_2 = ['Jurassic World: Fallen Kingdom','Red Devil','Mission: Impossible - Fallout','Split',\"Charlie's Angels\",'Charlie','Ant-Man and the Wasp','Legion','Journey to the West: The Demons Strike Back','Mindhunter','Designated Survivor','Assassinaut','Hate Story IV','Madame Antoine','Le Lotta','Riverdale','Anne with an E','Fast & Furious 9','Deadpool 2','Who Killed Cock Robin?','The Punisher','God Bless the Broken Road','Warrior','The Marvelous Mrs. Maisel','Mirror Image','W: Two Worlds','Darker Than Night','Pokémon Detective Pikachu','The Last Princess','Commando 2','The Flood','Guardian: The Lonely and Great God','The Angry Birds Movie 2','The Woman in the Window','The Woman in the Window','The Aeronauts','John Wick: Chapter 3 - Parabellum','Angel Has Fallen','My Sassy Girl','Saving Capitalism','My Sassy Gir','Young Sheldon','The End of the F***ing World','Code 8','A Ghost Story','Spider-Man: Far from Home','The Rules for Everything','Abominable','Sobibor','Terminator: Dark Fate','Purge of Kingdoms','The Bride of Habaek','Terminator: Dark Fate','The Monkey King 3','Made in Heaven','X-Men: Dark Phoenix','Night Hunter','The Apparition','Too Old to Die Young','A Quiet Place','Guilty: The Web Series','Rogue','Fast & Furious Presents: Hobbs & Shaw','Escape Plan: The Extractors','The Haunting of Hill House','Mrs. Fazilet and her daughters','Fight for My Way','The True Don Quixote','Bose: Dead/Alive','The Dark Crystal: Age of Resistance','Sex Weather','The Souvenir','Killing Eve','The Conjuring: The Devil Made Me Do It','Wonder Woman 1984','The New Pope','Werewolf','Temperature of Love','Because This Is My First Life','The Immortal Wars: Resurgence','It Chapter Two','The Rook',\"The Wolf's Call\",'The Turning',\"I'm Not a Robot\",'Dora and the Lost City of Gold','The Rookie','Harley Quinn','Marriage Story','Messiah','Nude','Driven','The Third Wife','Sex Education','The Yard','Spider in the Web','Jumanji: The Next Level','The Past','X Ray: The Inner Image','Shadow Wolves','Godfather of Harlem','Generation Iron','Broken But Beautiful','Doom: Annihilation','Annabelle Comes Home','The Gentlemen','Queen of Hearts',\"The Hitman's Wife's Bodyguard\",'Queen of Spades: Through the Looking Glass',\"A Dog's Journey\",'The Two Popes','A Love So Beautiful','Beecham House','Victim Number 8','Vagabond','Dolemite Is My Name','Guardian','Last Christmas','The Farewell','President Evil','Star Trek: Picard',\"Sunderland 'Til I die\",'Knives Out','Sextuplets','Girl on the Third Floor','The Chosen One','A Confession','Emergence','The Verdict: State Vs Nanavati','El Camino: A Breaking Bad Movie','Tall Girl','To All the Boys: P.S. I Still Love You']"
   ]
  },
  {
   "cell_type": "code",
   "execution_count": 61,
   "metadata": {},
   "outputs": [],
   "source": [
    "to_english_3 = ['The Revenant','12 Years a Slave','Prisoners','Prisoners','Looper','Hot Fuzz','Nightcrawler','Spotlight','Kung Fu Panda','Divergent','Lucy','Elysium','Passengers','Insomnia','Walk the Line','300: Rise of an Empire','Total Recall',\"Don't Breathe\",'The Lobster','Don Jon','Shame','War Dogs','The Girl on the Train','One Day','13 Hours','The Dreamers','Along Came Polly','Burnt','Paddington','Malena','Faster','Secretary','The Last Witch Hunter','Unfaithful','A Cure for Wellness','Young Adult','Unbelievable','Shameless','The Family Man','Meme Review','Feud: Bette and Joan','Top Boy','Breathe','You','How to Sell Drugs Online (Fast)',\"The Test: A New Era for Australia's Team\",'McMafia','Servant','Glitch','Criminal Justice','Food Wars','Living with Yourself','Marianne','Raising Dion','Skylines','God Friended Me','InMates','']"
   ]
  },
  {
   "cell_type": "code",
   "execution_count": 62,
   "metadata": {},
   "outputs": [],
   "source": [
    "remove_eng = ['Léon: The Professional','KKHH','****','KNPH','K3G','KKKG','www.XXX.com','R.D.B.','Veer-Zaara','Koi... Tumsa Nahin','Perfect Mis Match','Munnabhai 2nd Innings','Don: The Chase Begins Again','Dashavtar','Sivaji',\"Mani Ratnam's Guru\",'Harry Potter aur maut ke tohfe, part 1','XXY','Search: WWW','www.love.com','Love.Com','Guardians of the Galaxy: Anktriksh ke Boss','A.B.C.D','Cosmos','Furious Seven','Teesaree Prakaar Kee Muthabhed']"
   ]
  },
  {
   "cell_type": "markdown",
   "metadata": {},
   "source": [
    "Changing the language of the above  titles to english."
   ]
  },
  {
   "cell_type": "code",
   "execution_count": 63,
   "metadata": {},
   "outputs": [],
   "source": [
    "df_with_basic.loc[(df_with_basic.title.isin(to_english)),'language']='en'\n",
    "df_with_basic.loc[(df_with_basic.title.isin(to_english_2)),'language']='en'\n",
    "df_with_basic.loc[(df_with_basic.title.isin(to_english_3)),'language']='en'"
   ]
  },
  {
   "cell_type": "code",
   "execution_count": 64,
   "metadata": {},
   "outputs": [],
   "source": [
    "df_with_basic = df_with_basic[~(df_with_basic.title.isin(remove_eng))]"
   ]
  },
  {
   "cell_type": "markdown",
   "metadata": {},
   "source": [
    "Some movies are released in multiple countries, hence the same information is repeated for different regions as shown below."
   ]
  },
  {
   "cell_type": "code",
   "execution_count": 65,
   "metadata": {},
   "outputs": [
    {
     "data": {
      "text/html": [
       "<div>\n",
       "<style scoped>\n",
       "    .dataframe tbody tr th:only-of-type {\n",
       "        vertical-align: middle;\n",
       "    }\n",
       "\n",
       "    .dataframe tbody tr th {\n",
       "        vertical-align: top;\n",
       "    }\n",
       "\n",
       "    .dataframe thead th {\n",
       "        text-align: right;\n",
       "    }\n",
       "</style>\n",
       "<table border=\"1\" class=\"dataframe\">\n",
       "  <thead>\n",
       "    <tr style=\"text-align: right;\">\n",
       "      <th></th>\n",
       "      <th>titleId</th>\n",
       "      <th>title</th>\n",
       "      <th>region</th>\n",
       "      <th>language</th>\n",
       "      <th>titleType</th>\n",
       "      <th>isAdult</th>\n",
       "      <th>startYear</th>\n",
       "      <th>genres</th>\n",
       "    </tr>\n",
       "  </thead>\n",
       "  <tbody>\n",
       "    <tr>\n",
       "      <th>2637927</th>\n",
       "      <td>tt9850064</td>\n",
       "      <td>Children of the Sea</td>\n",
       "      <td>NZ</td>\n",
       "      <td>en</td>\n",
       "      <td>movie</td>\n",
       "      <td>0.0</td>\n",
       "      <td>2019</td>\n",
       "      <td>Adventure,Animation,Drama</td>\n",
       "    </tr>\n",
       "    <tr>\n",
       "      <th>2637928</th>\n",
       "      <td>tt9850064</td>\n",
       "      <td>Children of the Sea</td>\n",
       "      <td>XWW</td>\n",
       "      <td>en</td>\n",
       "      <td>movie</td>\n",
       "      <td>0.0</td>\n",
       "      <td>2019</td>\n",
       "      <td>Adventure,Animation,Drama</td>\n",
       "    </tr>\n",
       "    <tr>\n",
       "      <th>2637929</th>\n",
       "      <td>tt9850064</td>\n",
       "      <td>Children of the Sea</td>\n",
       "      <td>CA</td>\n",
       "      <td>en</td>\n",
       "      <td>movie</td>\n",
       "      <td>0.0</td>\n",
       "      <td>2019</td>\n",
       "      <td>Adventure,Animation,Drama</td>\n",
       "    </tr>\n",
       "  </tbody>\n",
       "</table>\n",
       "</div>"
      ],
      "text/plain": [
       "           titleId                title region language titleType  isAdult  \\\n",
       "2637927  tt9850064  Children of the Sea     NZ       en     movie      0.0   \n",
       "2637928  tt9850064  Children of the Sea    XWW       en     movie      0.0   \n",
       "2637929  tt9850064  Children of the Sea     CA       en     movie      0.0   \n",
       "\n",
       "        startYear                     genres  \n",
       "2637927      2019  Adventure,Animation,Drama  \n",
       "2637928      2019  Adventure,Animation,Drama  \n",
       "2637929      2019  Adventure,Animation,Drama  "
      ]
     },
     "execution_count": 65,
     "metadata": {},
     "output_type": "execute_result"
    }
   ],
   "source": [
    "df_with_basic[df_with_basic.titleId == 'tt9850064']"
   ]
  },
  {
   "cell_type": "markdown",
   "metadata": {},
   "source": [
    "Now, to remove the rows with same title information the following strategy is adopted.\n",
    "\n",
    "* The region of every title from US or Canada is be changed to AA\n",
    "* The region of every title from India stays as it is\n",
    "* The region of every title with any other country/region is changed to ZZ\n",
    "* Then the rows are sorted in descending order of langugae and region. \n",
    "* The duplicates that will occur first are kept and everything else is removed.\n"
   ]
  },
  {
   "cell_type": "code",
   "execution_count": 66,
   "metadata": {},
   "outputs": [
    {
     "data": {
      "text/html": [
       "<div>\n",
       "<style scoped>\n",
       "    .dataframe tbody tr th:only-of-type {\n",
       "        vertical-align: middle;\n",
       "    }\n",
       "\n",
       "    .dataframe tbody tr th {\n",
       "        vertical-align: top;\n",
       "    }\n",
       "\n",
       "    .dataframe thead th {\n",
       "        text-align: right;\n",
       "    }\n",
       "</style>\n",
       "<table border=\"1\" class=\"dataframe\">\n",
       "  <thead>\n",
       "    <tr style=\"text-align: right;\">\n",
       "      <th></th>\n",
       "      <th>titleId</th>\n",
       "      <th>title</th>\n",
       "      <th>region</th>\n",
       "      <th>language</th>\n",
       "      <th>titleType</th>\n",
       "      <th>isAdult</th>\n",
       "      <th>startYear</th>\n",
       "      <th>genres</th>\n",
       "    </tr>\n",
       "  </thead>\n",
       "  <tbody>\n",
       "    <tr>\n",
       "      <th>2649644</th>\n",
       "      <td>tt9900908</td>\n",
       "      <td>Handcuffs</td>\n",
       "      <td>XWW</td>\n",
       "      <td>en</td>\n",
       "      <td>movie</td>\n",
       "      <td>0.0</td>\n",
       "      <td>1969</td>\n",
       "      <td>Action,Comedy,Crime</td>\n",
       "    </tr>\n",
       "    <tr>\n",
       "      <th>2651088</th>\n",
       "      <td>tt9906644</td>\n",
       "      <td>Manoharam</td>\n",
       "      <td>CA</td>\n",
       "      <td>en</td>\n",
       "      <td>movie</td>\n",
       "      <td>0.0</td>\n",
       "      <td>2019</td>\n",
       "      <td>Comedy,Drama</td>\n",
       "    </tr>\n",
       "    <tr>\n",
       "      <th>2651089</th>\n",
       "      <td>tt9906644</td>\n",
       "      <td>Manoharam</td>\n",
       "      <td>IN</td>\n",
       "      <td>hi</td>\n",
       "      <td>movie</td>\n",
       "      <td>0.0</td>\n",
       "      <td>2019</td>\n",
       "      <td>Comedy,Drama</td>\n",
       "    </tr>\n",
       "    <tr>\n",
       "      <th>2653686</th>\n",
       "      <td>tt9915686</td>\n",
       "      <td>Khatra Khatra Khatra</td>\n",
       "      <td>IN</td>\n",
       "      <td>hi</td>\n",
       "      <td>tvSeries</td>\n",
       "      <td>0.0</td>\n",
       "      <td>2019</td>\n",
       "      <td>Comedy,Reality-TV</td>\n",
       "    </tr>\n",
       "    <tr>\n",
       "      <th>2653688</th>\n",
       "      <td>tt9915686</td>\n",
       "      <td>Khatra Khatra Khatra</td>\n",
       "      <td>IN</td>\n",
       "      <td>hi</td>\n",
       "      <td>tvSeries</td>\n",
       "      <td>0.0</td>\n",
       "      <td>2019</td>\n",
       "      <td>Comedy,Reality-TV</td>\n",
       "    </tr>\n",
       "  </tbody>\n",
       "</table>\n",
       "</div>"
      ],
      "text/plain": [
       "           titleId                 title region language titleType  isAdult  \\\n",
       "2649644  tt9900908             Handcuffs    XWW       en     movie      0.0   \n",
       "2651088  tt9906644             Manoharam     CA       en     movie      0.0   \n",
       "2651089  tt9906644             Manoharam     IN       hi     movie      0.0   \n",
       "2653686  tt9915686  Khatra Khatra Khatra     IN       hi  tvSeries      0.0   \n",
       "2653688  tt9915686  Khatra Khatra Khatra     IN       hi  tvSeries      0.0   \n",
       "\n",
       "        startYear               genres  \n",
       "2649644      1969  Action,Comedy,Crime  \n",
       "2651088      2019         Comedy,Drama  \n",
       "2651089      2019         Comedy,Drama  \n",
       "2653686      2019    Comedy,Reality-TV  \n",
       "2653688      2019    Comedy,Reality-TV  "
      ]
     },
     "execution_count": 66,
     "metadata": {},
     "output_type": "execute_result"
    }
   ],
   "source": [
    "df_with_basic[df_with_basic.duplicated(subset=['title'], keep=False)].tail()"
   ]
  },
  {
   "cell_type": "markdown",
   "metadata": {},
   "source": [
    "Changing region of other countires to ZZ"
   ]
  },
  {
   "cell_type": "code",
   "execution_count": 67,
   "metadata": {},
   "outputs": [],
   "source": [
    "index = (df_with_basic.language == 'en') & ((df_with_basic.region != 'US') | (df_with_basic.region != 'CA'))\n",
    "df_with_basic.loc[(index),'region']='ZZ'"
   ]
  },
  {
   "cell_type": "markdown",
   "metadata": {},
   "source": [
    "Changing region US and CA to AA"
   ]
  },
  {
   "cell_type": "code",
   "execution_count": 68,
   "metadata": {},
   "outputs": [],
   "source": [
    "index = (df_with_basic.language == 'en') & ((df_with_basic.region == 'US') | (df_with_basic.region == 'CA'))\n",
    "df_with_basic.loc[(index),'region']='AA'"
   ]
  },
  {
   "cell_type": "code",
   "execution_count": 69,
   "metadata": {},
   "outputs": [
    {
     "data": {
      "text/html": [
       "<div>\n",
       "<style scoped>\n",
       "    .dataframe tbody tr th:only-of-type {\n",
       "        vertical-align: middle;\n",
       "    }\n",
       "\n",
       "    .dataframe tbody tr th {\n",
       "        vertical-align: top;\n",
       "    }\n",
       "\n",
       "    .dataframe thead th {\n",
       "        text-align: right;\n",
       "    }\n",
       "</style>\n",
       "<table border=\"1\" class=\"dataframe\">\n",
       "  <thead>\n",
       "    <tr style=\"text-align: right;\">\n",
       "      <th></th>\n",
       "      <th>titleId</th>\n",
       "      <th>title</th>\n",
       "      <th>region</th>\n",
       "      <th>language</th>\n",
       "      <th>titleType</th>\n",
       "      <th>isAdult</th>\n",
       "      <th>startYear</th>\n",
       "      <th>genres</th>\n",
       "    </tr>\n",
       "  </thead>\n",
       "  <tbody>\n",
       "    <tr>\n",
       "      <th>73</th>\n",
       "      <td>tt0000941</td>\n",
       "      <td>Love Crazy</td>\n",
       "      <td>ZZ</td>\n",
       "      <td>en</td>\n",
       "      <td>movie</td>\n",
       "      <td>0.0</td>\n",
       "      <td>1909</td>\n",
       "      <td>Drama</td>\n",
       "    </tr>\n",
       "    <tr>\n",
       "      <th>82</th>\n",
       "      <td>tt0001175</td>\n",
       "      <td>Camille</td>\n",
       "      <td>ZZ</td>\n",
       "      <td>en</td>\n",
       "      <td>movie</td>\n",
       "      <td>0.0</td>\n",
       "      <td>1912</td>\n",
       "      <td>Drama,Romance</td>\n",
       "    </tr>\n",
       "    <tr>\n",
       "      <th>86</th>\n",
       "      <td>tt0001258</td>\n",
       "      <td>The White Slave Trade</td>\n",
       "      <td>ZZ</td>\n",
       "      <td>en</td>\n",
       "      <td>movie</td>\n",
       "      <td>0.0</td>\n",
       "      <td>1910</td>\n",
       "      <td>Drama</td>\n",
       "    </tr>\n",
       "    <tr>\n",
       "      <th>88</th>\n",
       "      <td>tt0001338</td>\n",
       "      <td>A Night in May</td>\n",
       "      <td>ZZ</td>\n",
       "      <td>en</td>\n",
       "      <td>movie</td>\n",
       "      <td>0.0</td>\n",
       "      <td>1910</td>\n",
       "      <td>Drama</td>\n",
       "    </tr>\n",
       "    <tr>\n",
       "      <th>93</th>\n",
       "      <td>tt0001790</td>\n",
       "      <td>Les Misérables, Part 1: Jean Valjean</td>\n",
       "      <td>ZZ</td>\n",
       "      <td>en</td>\n",
       "      <td>movie</td>\n",
       "      <td>0.0</td>\n",
       "      <td>1913</td>\n",
       "      <td>Drama</td>\n",
       "    </tr>\n",
       "    <tr>\n",
       "      <th>...</th>\n",
       "      <td>...</td>\n",
       "      <td>...</td>\n",
       "      <td>...</td>\n",
       "      <td>...</td>\n",
       "      <td>...</td>\n",
       "      <td>...</td>\n",
       "      <td>...</td>\n",
       "      <td>...</td>\n",
       "    </tr>\n",
       "    <tr>\n",
       "      <th>2653660</th>\n",
       "      <td>tt9915592</td>\n",
       "      <td>A Husband to Rent</td>\n",
       "      <td>ZZ</td>\n",
       "      <td>en</td>\n",
       "      <td>movie</td>\n",
       "      <td>0.0</td>\n",
       "      <td>1974</td>\n",
       "      <td>Comedy</td>\n",
       "    </tr>\n",
       "    <tr>\n",
       "      <th>2653687</th>\n",
       "      <td>tt9915686</td>\n",
       "      <td>The Khatra Show</td>\n",
       "      <td>ZZ</td>\n",
       "      <td>en</td>\n",
       "      <td>tvSeries</td>\n",
       "      <td>0.0</td>\n",
       "      <td>2019</td>\n",
       "      <td>Comedy,Reality-TV</td>\n",
       "    </tr>\n",
       "    <tr>\n",
       "      <th>2653746</th>\n",
       "      <td>tt9916170</td>\n",
       "      <td>The Rehearsal</td>\n",
       "      <td>ZZ</td>\n",
       "      <td>en</td>\n",
       "      <td>movie</td>\n",
       "      <td>0.0</td>\n",
       "      <td>2019</td>\n",
       "      <td>Drama</td>\n",
       "    </tr>\n",
       "    <tr>\n",
       "      <th>2653749</th>\n",
       "      <td>tt9916206</td>\n",
       "      <td>Nojor</td>\n",
       "      <td>ZZ</td>\n",
       "      <td>en</td>\n",
       "      <td>tvSeries</td>\n",
       "      <td>0.0</td>\n",
       "      <td>2019</td>\n",
       "      <td>Fantasy</td>\n",
       "    </tr>\n",
       "    <tr>\n",
       "      <th>2653751</th>\n",
       "      <td>tt9916216</td>\n",
       "      <td>Kalyanam Mudhal Kadhal Varai</td>\n",
       "      <td>ZZ</td>\n",
       "      <td>en</td>\n",
       "      <td>tvSeries</td>\n",
       "      <td>0.0</td>\n",
       "      <td>2014</td>\n",
       "      <td>Romance</td>\n",
       "    </tr>\n",
       "  </tbody>\n",
       "</table>\n",
       "<p>123270 rows × 8 columns</p>\n",
       "</div>"
      ],
      "text/plain": [
       "           titleId                                 title region language  \\\n",
       "73       tt0000941                            Love Crazy     ZZ       en   \n",
       "82       tt0001175                               Camille     ZZ       en   \n",
       "86       tt0001258                 The White Slave Trade     ZZ       en   \n",
       "88       tt0001338                        A Night in May     ZZ       en   \n",
       "93       tt0001790  Les Misérables, Part 1: Jean Valjean     ZZ       en   \n",
       "...            ...                                   ...    ...      ...   \n",
       "2653660  tt9915592                     A Husband to Rent     ZZ       en   \n",
       "2653687  tt9915686                       The Khatra Show     ZZ       en   \n",
       "2653746  tt9916170                         The Rehearsal     ZZ       en   \n",
       "2653749  tt9916206                                 Nojor     ZZ       en   \n",
       "2653751  tt9916216          Kalyanam Mudhal Kadhal Varai     ZZ       en   \n",
       "\n",
       "        titleType  isAdult startYear             genres  \n",
       "73          movie      0.0      1909              Drama  \n",
       "82          movie      0.0      1912      Drama,Romance  \n",
       "86          movie      0.0      1910              Drama  \n",
       "88          movie      0.0      1910              Drama  \n",
       "93          movie      0.0      1913              Drama  \n",
       "...           ...      ...       ...                ...  \n",
       "2653660     movie      0.0      1974             Comedy  \n",
       "2653687  tvSeries      0.0      2019  Comedy,Reality-TV  \n",
       "2653746     movie      0.0      2019              Drama  \n",
       "2653749  tvSeries      0.0      2019            Fantasy  \n",
       "2653751  tvSeries      0.0      2014            Romance  \n",
       "\n",
       "[123270 rows x 8 columns]"
      ]
     },
     "execution_count": 69,
     "metadata": {},
     "output_type": "execute_result"
    }
   ],
   "source": [
    "df_with_basic[(df_with_basic.language == 'en') ]"
   ]
  },
  {
   "cell_type": "code",
   "execution_count": 70,
   "metadata": {},
   "outputs": [],
   "source": [
    "#Sorting the dataframe by langauge column\n",
    "df_with_basic.sort_values(by=['region','language'],ascending= False ,inplace=True)"
   ]
  },
  {
   "cell_type": "code",
   "execution_count": 71,
   "metadata": {},
   "outputs": [],
   "source": [
    "df_with_basic.drop_duplicates(subset=['titleId'],keep='first',inplace=True)"
   ]
  },
  {
   "cell_type": "markdown",
   "metadata": {},
   "source": [
    "Checking again."
   ]
  },
  {
   "cell_type": "code",
   "execution_count": 72,
   "metadata": {},
   "outputs": [
    {
     "data": {
      "text/html": [
       "<div>\n",
       "<style scoped>\n",
       "    .dataframe tbody tr th:only-of-type {\n",
       "        vertical-align: middle;\n",
       "    }\n",
       "\n",
       "    .dataframe tbody tr th {\n",
       "        vertical-align: top;\n",
       "    }\n",
       "\n",
       "    .dataframe thead th {\n",
       "        text-align: right;\n",
       "    }\n",
       "</style>\n",
       "<table border=\"1\" class=\"dataframe\">\n",
       "  <thead>\n",
       "    <tr style=\"text-align: right;\">\n",
       "      <th></th>\n",
       "      <th>titleId</th>\n",
       "      <th>title</th>\n",
       "      <th>region</th>\n",
       "      <th>language</th>\n",
       "      <th>titleType</th>\n",
       "      <th>isAdult</th>\n",
       "      <th>startYear</th>\n",
       "      <th>genres</th>\n",
       "    </tr>\n",
       "  </thead>\n",
       "  <tbody>\n",
       "    <tr>\n",
       "      <th>2649423</th>\n",
       "      <td>tt9898858</td>\n",
       "      <td>Coffee &amp; Kareem</td>\n",
       "      <td>ZZ</td>\n",
       "      <td>en</td>\n",
       "      <td>movie</td>\n",
       "      <td>0.0</td>\n",
       "      <td>2020</td>\n",
       "      <td>Action,Comedy</td>\n",
       "    </tr>\n",
       "  </tbody>\n",
       "</table>\n",
       "</div>"
      ],
      "text/plain": [
       "           titleId            title region language titleType  isAdult  \\\n",
       "2649423  tt9898858  Coffee & Kareem     ZZ       en     movie      0.0   \n",
       "\n",
       "        startYear         genres  \n",
       "2649423      2020  Action,Comedy  "
      ]
     },
     "execution_count": 72,
     "metadata": {},
     "output_type": "execute_result"
    }
   ],
   "source": [
    "#checking again to confirm that Coffee & Kareem only appears in Enlglish language\n",
    "df_with_basic[df_with_basic.title == 'Coffee & Kareem']"
   ]
  },
  {
   "cell_type": "markdown",
   "metadata": {},
   "source": [
    "The language is correct now. Let's add ratings to the datframe now."
   ]
  },
  {
   "cell_type": "markdown",
   "metadata": {},
   "source": [
    "### 3.  Adding ratings information"
   ]
  },
  {
   "cell_type": "code",
   "execution_count": 73,
   "metadata": {},
   "outputs": [],
   "source": [
    "ratings = pd.read_csv('title_rating.tsv',sep='\\t')"
   ]
  },
  {
   "cell_type": "code",
   "execution_count": 74,
   "metadata": {},
   "outputs": [
    {
     "data": {
      "text/html": [
       "<div>\n",
       "<style scoped>\n",
       "    .dataframe tbody tr th:only-of-type {\n",
       "        vertical-align: middle;\n",
       "    }\n",
       "\n",
       "    .dataframe tbody tr th {\n",
       "        vertical-align: top;\n",
       "    }\n",
       "\n",
       "    .dataframe thead th {\n",
       "        text-align: right;\n",
       "    }\n",
       "</style>\n",
       "<table border=\"1\" class=\"dataframe\">\n",
       "  <thead>\n",
       "    <tr style=\"text-align: right;\">\n",
       "      <th></th>\n",
       "      <th>tconst</th>\n",
       "      <th>averageRating</th>\n",
       "      <th>numVotes</th>\n",
       "    </tr>\n",
       "  </thead>\n",
       "  <tbody>\n",
       "    <tr>\n",
       "      <th>0</th>\n",
       "      <td>tt0000001</td>\n",
       "      <td>5.6</td>\n",
       "      <td>1608</td>\n",
       "    </tr>\n",
       "    <tr>\n",
       "      <th>1</th>\n",
       "      <td>tt0000002</td>\n",
       "      <td>6.0</td>\n",
       "      <td>197</td>\n",
       "    </tr>\n",
       "    <tr>\n",
       "      <th>2</th>\n",
       "      <td>tt0000003</td>\n",
       "      <td>6.5</td>\n",
       "      <td>1286</td>\n",
       "    </tr>\n",
       "    <tr>\n",
       "      <th>3</th>\n",
       "      <td>tt0000004</td>\n",
       "      <td>6.1</td>\n",
       "      <td>121</td>\n",
       "    </tr>\n",
       "    <tr>\n",
       "      <th>4</th>\n",
       "      <td>tt0000005</td>\n",
       "      <td>6.1</td>\n",
       "      <td>2051</td>\n",
       "    </tr>\n",
       "  </tbody>\n",
       "</table>\n",
       "</div>"
      ],
      "text/plain": [
       "      tconst  averageRating  numVotes\n",
       "0  tt0000001            5.6      1608\n",
       "1  tt0000002            6.0       197\n",
       "2  tt0000003            6.5      1286\n",
       "3  tt0000004            6.1       121\n",
       "4  tt0000005            6.1      2051"
      ]
     },
     "execution_count": 74,
     "metadata": {},
     "output_type": "execute_result"
    }
   ],
   "source": [
    "ratings.head()"
   ]
  },
  {
   "cell_type": "markdown",
   "metadata": {},
   "source": [
    "Joining the ratings information with the dataframe created above."
   ]
  },
  {
   "cell_type": "code",
   "execution_count": 75,
   "metadata": {},
   "outputs": [],
   "source": [
    "ratings = ratings.set_index('tconst')\n",
    "df_with_ratings = pd.merge(df_with_basic,ratings,left_on='titleId',right_on='tconst',how='left')"
   ]
  },
  {
   "cell_type": "code",
   "execution_count": 76,
   "metadata": {},
   "outputs": [
    {
     "data": {
      "text/html": [
       "<div>\n",
       "<style scoped>\n",
       "    .dataframe tbody tr th:only-of-type {\n",
       "        vertical-align: middle;\n",
       "    }\n",
       "\n",
       "    .dataframe tbody tr th {\n",
       "        vertical-align: top;\n",
       "    }\n",
       "\n",
       "    .dataframe thead th {\n",
       "        text-align: right;\n",
       "    }\n",
       "</style>\n",
       "<table border=\"1\" class=\"dataframe\">\n",
       "  <thead>\n",
       "    <tr style=\"text-align: right;\">\n",
       "      <th></th>\n",
       "      <th>titleId</th>\n",
       "      <th>title</th>\n",
       "      <th>region</th>\n",
       "      <th>language</th>\n",
       "      <th>titleType</th>\n",
       "      <th>isAdult</th>\n",
       "      <th>startYear</th>\n",
       "      <th>genres</th>\n",
       "      <th>averageRating</th>\n",
       "      <th>numVotes</th>\n",
       "    </tr>\n",
       "  </thead>\n",
       "  <tbody>\n",
       "    <tr>\n",
       "      <th>0</th>\n",
       "      <td>tt0000941</td>\n",
       "      <td>Love Crazy</td>\n",
       "      <td>ZZ</td>\n",
       "      <td>en</td>\n",
       "      <td>movie</td>\n",
       "      <td>0.0</td>\n",
       "      <td>1909</td>\n",
       "      <td>Drama</td>\n",
       "      <td>4.2</td>\n",
       "      <td>13.0</td>\n",
       "    </tr>\n",
       "    <tr>\n",
       "      <th>1</th>\n",
       "      <td>tt0001175</td>\n",
       "      <td>Camille</td>\n",
       "      <td>ZZ</td>\n",
       "      <td>en</td>\n",
       "      <td>movie</td>\n",
       "      <td>0.0</td>\n",
       "      <td>1912</td>\n",
       "      <td>Drama,Romance</td>\n",
       "      <td>5.5</td>\n",
       "      <td>22.0</td>\n",
       "    </tr>\n",
       "    <tr>\n",
       "      <th>2</th>\n",
       "      <td>tt0001258</td>\n",
       "      <td>The White Slave Trade</td>\n",
       "      <td>ZZ</td>\n",
       "      <td>en</td>\n",
       "      <td>movie</td>\n",
       "      <td>0.0</td>\n",
       "      <td>1910</td>\n",
       "      <td>Drama</td>\n",
       "      <td>5.8</td>\n",
       "      <td>80.0</td>\n",
       "    </tr>\n",
       "    <tr>\n",
       "      <th>3</th>\n",
       "      <td>tt0001338</td>\n",
       "      <td>A Night in May</td>\n",
       "      <td>ZZ</td>\n",
       "      <td>en</td>\n",
       "      <td>movie</td>\n",
       "      <td>0.0</td>\n",
       "      <td>1910</td>\n",
       "      <td>Drama</td>\n",
       "      <td>5.4</td>\n",
       "      <td>7.0</td>\n",
       "    </tr>\n",
       "    <tr>\n",
       "      <th>4</th>\n",
       "      <td>tt0001790</td>\n",
       "      <td>Les Misérables, Part 1: Jean Valjean</td>\n",
       "      <td>ZZ</td>\n",
       "      <td>en</td>\n",
       "      <td>movie</td>\n",
       "      <td>0.0</td>\n",
       "      <td>1913</td>\n",
       "      <td>Drama</td>\n",
       "      <td>5.8</td>\n",
       "      <td>21.0</td>\n",
       "    </tr>\n",
       "  </tbody>\n",
       "</table>\n",
       "</div>"
      ],
      "text/plain": [
       "     titleId                                 title region language titleType  \\\n",
       "0  tt0000941                            Love Crazy     ZZ       en     movie   \n",
       "1  tt0001175                               Camille     ZZ       en     movie   \n",
       "2  tt0001258                 The White Slave Trade     ZZ       en     movie   \n",
       "3  tt0001338                        A Night in May     ZZ       en     movie   \n",
       "4  tt0001790  Les Misérables, Part 1: Jean Valjean     ZZ       en     movie   \n",
       "\n",
       "   isAdult startYear         genres  averageRating  numVotes  \n",
       "0      0.0      1909          Drama            4.2      13.0  \n",
       "1      0.0      1912  Drama,Romance            5.5      22.0  \n",
       "2      0.0      1910          Drama            5.8      80.0  \n",
       "3      0.0      1910          Drama            5.4       7.0  \n",
       "4      0.0      1913          Drama            5.8      21.0  "
      ]
     },
     "execution_count": 76,
     "metadata": {},
     "output_type": "execute_result"
    }
   ],
   "source": [
    "df_with_ratings.head()"
   ]
  },
  {
   "cell_type": "code",
   "execution_count": 77,
   "metadata": {},
   "outputs": [
    {
     "data": {
      "text/plain": [
       "(99010, 10)"
      ]
     },
     "execution_count": 77,
     "metadata": {},
     "output_type": "execute_result"
    }
   ],
   "source": [
    "df_with_ratings.shape"
   ]
  },
  {
   "cell_type": "code",
   "execution_count": 78,
   "metadata": {},
   "outputs": [],
   "source": [
    "df_with_ratings['title'] = df_with_ratings['title'].apply(lambda x: unidecode.unidecode(x))"
   ]
  },
  {
   "cell_type": "markdown",
   "metadata": {},
   "source": [
    "The movies in the data starts from the year 1903, but only movies released after 1950 are to be included in the application. Hence, all the movies released before 1950 are removed below. Also, the movies without any release date are also removed."
   ]
  },
  {
   "cell_type": "code",
   "execution_count": 80,
   "metadata": {},
   "outputs": [],
   "source": [
    "df_with_ratings = df_with_ratings[~(df_with_ratings.startYear =='\\\\N')]\n",
    "df_with_ratings['startYear'] = df_with_ratings['startYear'].apply(int)\n",
    "df_with_ratings =  df_with_ratings[df_with_ratings.startYear >= 1950]"
   ]
  },
  {
   "cell_type": "code",
   "execution_count": 81,
   "metadata": {},
   "outputs": [
    {
     "data": {
      "text/plain": [
       "1950"
      ]
     },
     "execution_count": 81,
     "metadata": {},
     "output_type": "execute_result"
    }
   ],
   "source": [
    "df_with_ratings.startYear.min()"
   ]
  },
  {
   "cell_type": "code",
   "execution_count": 82,
   "metadata": {},
   "outputs": [],
   "source": [
    "df_with_ratings.dropna(axis=0,how='any',inplace=True)"
   ]
  },
  {
   "cell_type": "markdown",
   "metadata": {},
   "source": [
    "Renaming few values to improve readability."
   ]
  },
  {
   "cell_type": "code",
   "execution_count": null,
   "metadata": {},
   "outputs": [],
   "source": [
    "df_with_ratings.loc[(df_with_ratings.titleType == 'tvMiniSeries'),'titleType']='Mini-Series'\n",
    "df_with_ratings.loc[(df_with_ratings.titleType == 'tvSeries'),'titleType']='Series'"
   ]
  },
  {
   "cell_type": "code",
   "execution_count": null,
   "metadata": {},
   "outputs": [],
   "source": [
    "df_with_ratings.loc[(df_with_ratings.language == 'en'),'language']='English'\n",
    "df_with_ratings.loc[(df_with_ratings.language == 'hi'),'language']='Hindi'"
   ]
  },
  {
   "cell_type": "markdown",
   "metadata": {},
   "source": [
    "Creating a csv with title information"
   ]
  },
  {
   "cell_type": "code",
   "execution_count": null,
   "metadata": {},
   "outputs": [],
   "source": [
    "df_with_ratings.to_csv(\"title_information.csv\")"
   ]
  },
  {
   "cell_type": "markdown",
   "metadata": {},
   "source": [
    "## Creating dataframe with cast information for each title"
   ]
  },
  {
   "cell_type": "markdown",
   "metadata": {},
   "source": [
    "### 1. Creating dataframe with actor, actress and director infromation"
   ]
  },
  {
   "cell_type": "markdown",
   "metadata": {},
   "source": [
    "Reading principal actor info"
   ]
  },
  {
   "cell_type": "code",
   "execution_count": 83,
   "metadata": {},
   "outputs": [],
   "source": [
    "cast_info = pd.read_csv('title_principal.tsv',sep='\\t')"
   ]
  },
  {
   "cell_type": "code",
   "execution_count": 84,
   "metadata": {},
   "outputs": [
    {
     "data": {
      "text/html": [
       "<div>\n",
       "<style scoped>\n",
       "    .dataframe tbody tr th:only-of-type {\n",
       "        vertical-align: middle;\n",
       "    }\n",
       "\n",
       "    .dataframe tbody tr th {\n",
       "        vertical-align: top;\n",
       "    }\n",
       "\n",
       "    .dataframe thead th {\n",
       "        text-align: right;\n",
       "    }\n",
       "</style>\n",
       "<table border=\"1\" class=\"dataframe\">\n",
       "  <thead>\n",
       "    <tr style=\"text-align: right;\">\n",
       "      <th></th>\n",
       "      <th>tconst</th>\n",
       "      <th>ordering</th>\n",
       "      <th>nconst</th>\n",
       "      <th>category</th>\n",
       "      <th>job</th>\n",
       "      <th>characters</th>\n",
       "    </tr>\n",
       "  </thead>\n",
       "  <tbody>\n",
       "    <tr>\n",
       "      <th>0</th>\n",
       "      <td>tt0000001</td>\n",
       "      <td>1</td>\n",
       "      <td>nm1588970</td>\n",
       "      <td>self</td>\n",
       "      <td>\\N</td>\n",
       "      <td>[\"Self\"]</td>\n",
       "    </tr>\n",
       "    <tr>\n",
       "      <th>1</th>\n",
       "      <td>tt0000001</td>\n",
       "      <td>2</td>\n",
       "      <td>nm0005690</td>\n",
       "      <td>director</td>\n",
       "      <td>\\N</td>\n",
       "      <td>\\N</td>\n",
       "    </tr>\n",
       "    <tr>\n",
       "      <th>2</th>\n",
       "      <td>tt0000001</td>\n",
       "      <td>3</td>\n",
       "      <td>nm0374658</td>\n",
       "      <td>cinematographer</td>\n",
       "      <td>director of photography</td>\n",
       "      <td>\\N</td>\n",
       "    </tr>\n",
       "    <tr>\n",
       "      <th>3</th>\n",
       "      <td>tt0000002</td>\n",
       "      <td>1</td>\n",
       "      <td>nm0721526</td>\n",
       "      <td>director</td>\n",
       "      <td>\\N</td>\n",
       "      <td>\\N</td>\n",
       "    </tr>\n",
       "    <tr>\n",
       "      <th>4</th>\n",
       "      <td>tt0000002</td>\n",
       "      <td>2</td>\n",
       "      <td>nm1335271</td>\n",
       "      <td>composer</td>\n",
       "      <td>\\N</td>\n",
       "      <td>\\N</td>\n",
       "    </tr>\n",
       "    <tr>\n",
       "      <th>5</th>\n",
       "      <td>tt0000003</td>\n",
       "      <td>1</td>\n",
       "      <td>nm0721526</td>\n",
       "      <td>director</td>\n",
       "      <td>\\N</td>\n",
       "      <td>\\N</td>\n",
       "    </tr>\n",
       "    <tr>\n",
       "      <th>6</th>\n",
       "      <td>tt0000003</td>\n",
       "      <td>2</td>\n",
       "      <td>nm5442194</td>\n",
       "      <td>producer</td>\n",
       "      <td>producer</td>\n",
       "      <td>\\N</td>\n",
       "    </tr>\n",
       "    <tr>\n",
       "      <th>7</th>\n",
       "      <td>tt0000003</td>\n",
       "      <td>3</td>\n",
       "      <td>nm1335271</td>\n",
       "      <td>composer</td>\n",
       "      <td>\\N</td>\n",
       "      <td>\\N</td>\n",
       "    </tr>\n",
       "    <tr>\n",
       "      <th>8</th>\n",
       "      <td>tt0000003</td>\n",
       "      <td>4</td>\n",
       "      <td>nm5442200</td>\n",
       "      <td>editor</td>\n",
       "      <td>\\N</td>\n",
       "      <td>\\N</td>\n",
       "    </tr>\n",
       "    <tr>\n",
       "      <th>9</th>\n",
       "      <td>tt0000004</td>\n",
       "      <td>1</td>\n",
       "      <td>nm0721526</td>\n",
       "      <td>director</td>\n",
       "      <td>\\N</td>\n",
       "      <td>\\N</td>\n",
       "    </tr>\n",
       "    <tr>\n",
       "      <th>10</th>\n",
       "      <td>tt0000004</td>\n",
       "      <td>2</td>\n",
       "      <td>nm1335271</td>\n",
       "      <td>composer</td>\n",
       "      <td>\\N</td>\n",
       "      <td>\\N</td>\n",
       "    </tr>\n",
       "    <tr>\n",
       "      <th>11</th>\n",
       "      <td>tt0000005</td>\n",
       "      <td>1</td>\n",
       "      <td>nm0443482</td>\n",
       "      <td>actor</td>\n",
       "      <td>\\N</td>\n",
       "      <td>[\"Blacksmith\"]</td>\n",
       "    </tr>\n",
       "    <tr>\n",
       "      <th>12</th>\n",
       "      <td>tt0000005</td>\n",
       "      <td>2</td>\n",
       "      <td>nm0653042</td>\n",
       "      <td>actor</td>\n",
       "      <td>\\N</td>\n",
       "      <td>[\"Assistant\"]</td>\n",
       "    </tr>\n",
       "    <tr>\n",
       "      <th>13</th>\n",
       "      <td>tt0000005</td>\n",
       "      <td>3</td>\n",
       "      <td>nm0005690</td>\n",
       "      <td>director</td>\n",
       "      <td>\\N</td>\n",
       "      <td>\\N</td>\n",
       "    </tr>\n",
       "    <tr>\n",
       "      <th>14</th>\n",
       "      <td>tt0000005</td>\n",
       "      <td>4</td>\n",
       "      <td>nm0249379</td>\n",
       "      <td>producer</td>\n",
       "      <td>producer</td>\n",
       "      <td>\\N</td>\n",
       "    </tr>\n",
       "    <tr>\n",
       "      <th>15</th>\n",
       "      <td>tt0000006</td>\n",
       "      <td>1</td>\n",
       "      <td>nm0005690</td>\n",
       "      <td>director</td>\n",
       "      <td>\\N</td>\n",
       "      <td>\\N</td>\n",
       "    </tr>\n",
       "    <tr>\n",
       "      <th>16</th>\n",
       "      <td>tt0000007</td>\n",
       "      <td>1</td>\n",
       "      <td>nm0179163</td>\n",
       "      <td>actor</td>\n",
       "      <td>\\N</td>\n",
       "      <td>\\N</td>\n",
       "    </tr>\n",
       "    <tr>\n",
       "      <th>17</th>\n",
       "      <td>tt0000007</td>\n",
       "      <td>2</td>\n",
       "      <td>nm0183947</td>\n",
       "      <td>actor</td>\n",
       "      <td>\\N</td>\n",
       "      <td>\\N</td>\n",
       "    </tr>\n",
       "    <tr>\n",
       "      <th>18</th>\n",
       "      <td>tt0000007</td>\n",
       "      <td>3</td>\n",
       "      <td>nm0005690</td>\n",
       "      <td>director</td>\n",
       "      <td>\\N</td>\n",
       "      <td>\\N</td>\n",
       "    </tr>\n",
       "    <tr>\n",
       "      <th>19</th>\n",
       "      <td>tt0000007</td>\n",
       "      <td>4</td>\n",
       "      <td>nm0374658</td>\n",
       "      <td>director</td>\n",
       "      <td>\\N</td>\n",
       "      <td>\\N</td>\n",
       "    </tr>\n",
       "  </tbody>\n",
       "</table>\n",
       "</div>"
      ],
      "text/plain": [
       "       tconst  ordering     nconst         category                      job  \\\n",
       "0   tt0000001         1  nm1588970             self                       \\N   \n",
       "1   tt0000001         2  nm0005690         director                       \\N   \n",
       "2   tt0000001         3  nm0374658  cinematographer  director of photography   \n",
       "3   tt0000002         1  nm0721526         director                       \\N   \n",
       "4   tt0000002         2  nm1335271         composer                       \\N   \n",
       "5   tt0000003         1  nm0721526         director                       \\N   \n",
       "6   tt0000003         2  nm5442194         producer                 producer   \n",
       "7   tt0000003         3  nm1335271         composer                       \\N   \n",
       "8   tt0000003         4  nm5442200           editor                       \\N   \n",
       "9   tt0000004         1  nm0721526         director                       \\N   \n",
       "10  tt0000004         2  nm1335271         composer                       \\N   \n",
       "11  tt0000005         1  nm0443482            actor                       \\N   \n",
       "12  tt0000005         2  nm0653042            actor                       \\N   \n",
       "13  tt0000005         3  nm0005690         director                       \\N   \n",
       "14  tt0000005         4  nm0249379         producer                 producer   \n",
       "15  tt0000006         1  nm0005690         director                       \\N   \n",
       "16  tt0000007         1  nm0179163            actor                       \\N   \n",
       "17  tt0000007         2  nm0183947            actor                       \\N   \n",
       "18  tt0000007         3  nm0005690         director                       \\N   \n",
       "19  tt0000007         4  nm0374658         director                       \\N   \n",
       "\n",
       "        characters  \n",
       "0         [\"Self\"]  \n",
       "1               \\N  \n",
       "2               \\N  \n",
       "3               \\N  \n",
       "4               \\N  \n",
       "5               \\N  \n",
       "6               \\N  \n",
       "7               \\N  \n",
       "8               \\N  \n",
       "9               \\N  \n",
       "10              \\N  \n",
       "11  [\"Blacksmith\"]  \n",
       "12   [\"Assistant\"]  \n",
       "13              \\N  \n",
       "14              \\N  \n",
       "15              \\N  \n",
       "16              \\N  \n",
       "17              \\N  \n",
       "18              \\N  \n",
       "19              \\N  "
      ]
     },
     "execution_count": 84,
     "metadata": {},
     "output_type": "execute_result"
    }
   ],
   "source": [
    "cast_info.head(20)"
   ]
  },
  {
   "cell_type": "markdown",
   "metadata": {},
   "source": [
    "Removin titles in cast datafrme which are not present in the datafrme created above."
   ]
  },
  {
   "cell_type": "code",
   "execution_count": 85,
   "metadata": {},
   "outputs": [],
   "source": [
    "cast_info = cast_info[cast_info.tconst.isin(df_with_ratings.titleId)]"
   ]
  },
  {
   "cell_type": "markdown",
   "metadata": {},
   "source": [
    "Keeping the information of actor, actress and director and removing everything else"
   ]
  },
  {
   "cell_type": "code",
   "execution_count": 86,
   "metadata": {},
   "outputs": [],
   "source": [
    "cast_info = cast_info[(cast_info.category == 'actor') | (cast_info.category == 'actress') | (cast_info.category == 'director')]"
   ]
  },
  {
   "cell_type": "markdown",
   "metadata": {},
   "source": [
    "Removing the columns which are not required for the project. "
   ]
  },
  {
   "cell_type": "code",
   "execution_count": 87,
   "metadata": {},
   "outputs": [],
   "source": [
    "cast_info.drop(labels=['ordering','job','characters'], axis=1,inplace=True)"
   ]
  },
  {
   "cell_type": "code",
   "execution_count": 88,
   "metadata": {},
   "outputs": [
    {
     "data": {
      "text/html": [
       "<div>\n",
       "<style scoped>\n",
       "    .dataframe tbody tr th:only-of-type {\n",
       "        vertical-align: middle;\n",
       "    }\n",
       "\n",
       "    .dataframe tbody tr th {\n",
       "        vertical-align: top;\n",
       "    }\n",
       "\n",
       "    .dataframe thead th {\n",
       "        text-align: right;\n",
       "    }\n",
       "</style>\n",
       "<table border=\"1\" class=\"dataframe\">\n",
       "  <thead>\n",
       "    <tr style=\"text-align: right;\">\n",
       "      <th></th>\n",
       "      <th>tconst</th>\n",
       "      <th>nconst</th>\n",
       "      <th>category</th>\n",
       "    </tr>\n",
       "  </thead>\n",
       "  <tbody>\n",
       "    <tr>\n",
       "      <th>316495</th>\n",
       "      <td>tt0039442</td>\n",
       "      <td>nm0007023</td>\n",
       "      <td>actor</td>\n",
       "    </tr>\n",
       "    <tr>\n",
       "      <th>316496</th>\n",
       "      <td>tt0039442</td>\n",
       "      <td>nm0544330</td>\n",
       "      <td>actress</td>\n",
       "    </tr>\n",
       "    <tr>\n",
       "      <th>316497</th>\n",
       "      <td>tt0039442</td>\n",
       "      <td>nm0019330</td>\n",
       "      <td>actor</td>\n",
       "    </tr>\n",
       "    <tr>\n",
       "      <th>316498</th>\n",
       "      <td>tt0039442</td>\n",
       "      <td>nm0370455</td>\n",
       "      <td>actress</td>\n",
       "    </tr>\n",
       "    <tr>\n",
       "      <th>316499</th>\n",
       "      <td>tt0039442</td>\n",
       "      <td>nm0349426</td>\n",
       "      <td>director</td>\n",
       "    </tr>\n",
       "  </tbody>\n",
       "</table>\n",
       "</div>"
      ],
      "text/plain": [
       "           tconst     nconst  category\n",
       "316495  tt0039442  nm0007023     actor\n",
       "316496  tt0039442  nm0544330   actress\n",
       "316497  tt0039442  nm0019330     actor\n",
       "316498  tt0039442  nm0370455   actress\n",
       "316499  tt0039442  nm0349426  director"
      ]
     },
     "execution_count": 88,
     "metadata": {},
     "output_type": "execute_result"
    }
   ],
   "source": [
    "cast_info.head()\n"
   ]
  },
  {
   "cell_type": "markdown",
   "metadata": {},
   "source": [
    "### 2. Replacing the codes for cast with their names"
   ]
  },
  {
   "cell_type": "code",
   "execution_count": 89,
   "metadata": {},
   "outputs": [],
   "source": [
    "name_info = pd.read_csv('name_basics.tsv',sep='\\t')"
   ]
  },
  {
   "cell_type": "code",
   "execution_count": 90,
   "metadata": {},
   "outputs": [
    {
     "data": {
      "text/html": [
       "<div>\n",
       "<style scoped>\n",
       "    .dataframe tbody tr th:only-of-type {\n",
       "        vertical-align: middle;\n",
       "    }\n",
       "\n",
       "    .dataframe tbody tr th {\n",
       "        vertical-align: top;\n",
       "    }\n",
       "\n",
       "    .dataframe thead th {\n",
       "        text-align: right;\n",
       "    }\n",
       "</style>\n",
       "<table border=\"1\" class=\"dataframe\">\n",
       "  <thead>\n",
       "    <tr style=\"text-align: right;\">\n",
       "      <th></th>\n",
       "      <th>nconst</th>\n",
       "      <th>primaryName</th>\n",
       "      <th>birthYear</th>\n",
       "      <th>deathYear</th>\n",
       "      <th>primaryProfession</th>\n",
       "      <th>knownForTitles</th>\n",
       "    </tr>\n",
       "  </thead>\n",
       "  <tbody>\n",
       "    <tr>\n",
       "      <th>0</th>\n",
       "      <td>nm0000001</td>\n",
       "      <td>Fred Astaire</td>\n",
       "      <td>1899</td>\n",
       "      <td>1987</td>\n",
       "      <td>soundtrack,actor,miscellaneous</td>\n",
       "      <td>tt0050419,tt0043044,tt0072308,tt0053137</td>\n",
       "    </tr>\n",
       "    <tr>\n",
       "      <th>1</th>\n",
       "      <td>nm0000002</td>\n",
       "      <td>Lauren Bacall</td>\n",
       "      <td>1924</td>\n",
       "      <td>2014</td>\n",
       "      <td>actress,soundtrack</td>\n",
       "      <td>tt0037382,tt0038355,tt0071877,tt0117057</td>\n",
       "    </tr>\n",
       "    <tr>\n",
       "      <th>2</th>\n",
       "      <td>nm0000003</td>\n",
       "      <td>Brigitte Bardot</td>\n",
       "      <td>1934</td>\n",
       "      <td>\\N</td>\n",
       "      <td>actress,soundtrack,producer</td>\n",
       "      <td>tt0059956,tt0049189,tt0054452,tt0057345</td>\n",
       "    </tr>\n",
       "    <tr>\n",
       "      <th>3</th>\n",
       "      <td>nm0000004</td>\n",
       "      <td>John Belushi</td>\n",
       "      <td>1949</td>\n",
       "      <td>1982</td>\n",
       "      <td>actor,soundtrack,writer</td>\n",
       "      <td>tt0077975,tt0080455,tt0072562,tt0078723</td>\n",
       "    </tr>\n",
       "    <tr>\n",
       "      <th>4</th>\n",
       "      <td>nm0000005</td>\n",
       "      <td>Ingmar Bergman</td>\n",
       "      <td>1918</td>\n",
       "      <td>2007</td>\n",
       "      <td>writer,director,actor</td>\n",
       "      <td>tt0083922,tt0050976,tt0050986,tt0060827</td>\n",
       "    </tr>\n",
       "  </tbody>\n",
       "</table>\n",
       "</div>"
      ],
      "text/plain": [
       "      nconst      primaryName birthYear deathYear  \\\n",
       "0  nm0000001     Fred Astaire      1899      1987   \n",
       "1  nm0000002    Lauren Bacall      1924      2014   \n",
       "2  nm0000003  Brigitte Bardot      1934        \\N   \n",
       "3  nm0000004     John Belushi      1949      1982   \n",
       "4  nm0000005   Ingmar Bergman      1918      2007   \n",
       "\n",
       "                primaryProfession                           knownForTitles  \n",
       "0  soundtrack,actor,miscellaneous  tt0050419,tt0043044,tt0072308,tt0053137  \n",
       "1              actress,soundtrack  tt0037382,tt0038355,tt0071877,tt0117057  \n",
       "2     actress,soundtrack,producer  tt0059956,tt0049189,tt0054452,tt0057345  \n",
       "3         actor,soundtrack,writer  tt0077975,tt0080455,tt0072562,tt0078723  \n",
       "4           writer,director,actor  tt0083922,tt0050976,tt0050986,tt0060827  "
      ]
     },
     "execution_count": 90,
     "metadata": {},
     "output_type": "execute_result"
    }
   ],
   "source": [
    "name_info.head()"
   ]
  },
  {
   "cell_type": "code",
   "execution_count": 91,
   "metadata": {},
   "outputs": [],
   "source": [
    "#replacing the codes in the cast dataframe from names\n",
    "cast_info['nconst'] = cast_info['nconst'].map(name_info.set_index('nconst')['primaryName'])"
   ]
  },
  {
   "cell_type": "code",
   "execution_count": 92,
   "metadata": {},
   "outputs": [],
   "source": [
    "#renaming names column\n",
    "cast_info.rename(columns = {'nconst':'name'}, inplace = True)"
   ]
  },
  {
   "cell_type": "code",
   "execution_count": 93,
   "metadata": {},
   "outputs": [
    {
     "data": {
      "text/html": [
       "<div>\n",
       "<style scoped>\n",
       "    .dataframe tbody tr th:only-of-type {\n",
       "        vertical-align: middle;\n",
       "    }\n",
       "\n",
       "    .dataframe tbody tr th {\n",
       "        vertical-align: top;\n",
       "    }\n",
       "\n",
       "    .dataframe thead th {\n",
       "        text-align: right;\n",
       "    }\n",
       "</style>\n",
       "<table border=\"1\" class=\"dataframe\">\n",
       "  <thead>\n",
       "    <tr style=\"text-align: right;\">\n",
       "      <th></th>\n",
       "      <th>tconst</th>\n",
       "      <th>name</th>\n",
       "      <th>category</th>\n",
       "    </tr>\n",
       "  </thead>\n",
       "  <tbody>\n",
       "    <tr>\n",
       "      <th>316495</th>\n",
       "      <td>tt0039442</td>\n",
       "      <td>José Luis López Vázquez</td>\n",
       "      <td>actor</td>\n",
       "    </tr>\n",
       "    <tr>\n",
       "      <th>316496</th>\n",
       "      <td>tt0039442</td>\n",
       "      <td>Kiti Mánver</td>\n",
       "      <td>actress</td>\n",
       "    </tr>\n",
       "    <tr>\n",
       "      <th>316497</th>\n",
       "      <td>tt0039442</td>\n",
       "      <td>Francisco Algora</td>\n",
       "      <td>actor</td>\n",
       "    </tr>\n",
       "    <tr>\n",
       "      <th>316498</th>\n",
       "      <td>tt0039442</td>\n",
       "      <td>Hanna Haxmann</td>\n",
       "      <td>actress</td>\n",
       "    </tr>\n",
       "    <tr>\n",
       "      <th>316499</th>\n",
       "      <td>tt0039442</td>\n",
       "      <td>Manuel Gutiérrez Aragón</td>\n",
       "      <td>director</td>\n",
       "    </tr>\n",
       "  </tbody>\n",
       "</table>\n",
       "</div>"
      ],
      "text/plain": [
       "           tconst                     name  category\n",
       "316495  tt0039442  José Luis López Vázquez     actor\n",
       "316496  tt0039442              Kiti Mánver   actress\n",
       "316497  tt0039442         Francisco Algora     actor\n",
       "316498  tt0039442            Hanna Haxmann   actress\n",
       "316499  tt0039442  Manuel Gutiérrez Aragón  director"
      ]
     },
     "execution_count": 93,
     "metadata": {},
     "output_type": "execute_result"
    }
   ],
   "source": [
    "cast_info.head()"
   ]
  },
  {
   "cell_type": "markdown",
   "metadata": {},
   "source": [
    "Changing the values in name column to string and then replacing accents with unaccanted letters."
   ]
  },
  {
   "cell_type": "code",
   "execution_count": 94,
   "metadata": {},
   "outputs": [],
   "source": [
    "cast_info['name'] = cast_info['name'].apply(str)\n",
    "cast_info['name'] = cast_info['name'].apply(lambda x: unidecode.unidecode(x))"
   ]
  },
  {
   "cell_type": "markdown",
   "metadata": {},
   "source": [
    "Writing to csv file"
   ]
  },
  {
   "cell_type": "code",
   "execution_count": 95,
   "metadata": {},
   "outputs": [],
   "source": [
    "cast_info = cast_info.reset_index()\n",
    "cast_info.to_csv('cast_information.csv',encoding=\"UTF-8\")"
   ]
  },
  {
   "cell_type": "code",
   "execution_count": null,
   "metadata": {},
   "outputs": [],
   "source": []
  }
 ],
 "metadata": {
  "kernelspec": {
   "display_name": "Python 3",
   "language": "python",
   "name": "python3"
  },
  "language_info": {
   "codemirror_mode": {
    "name": "ipython",
    "version": 3
   },
   "file_extension": ".py",
   "mimetype": "text/x-python",
   "name": "python",
   "nbconvert_exporter": "python",
   "pygments_lexer": "ipython3",
   "version": "3.7.4"
  }
 },
 "nbformat": 4,
 "nbformat_minor": 2
}
